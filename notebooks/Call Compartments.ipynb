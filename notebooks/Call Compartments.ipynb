{
 "cells": [
  {
   "cell_type": "code",
   "execution_count": 49,
   "metadata": {},
   "outputs": [],
   "source": [
    "import cooltools\n",
    "import bioframe\n",
    "import cooler\n",
    "import pandas as pd\n",
    "from HMMC import HMMC\n",
    "import fileprocessing\n",
    "from importlib import reload  \n",
    "import numpy as np\n",
    "from cooltools import eigdecomp\n",
    "from scipy import stats\n",
    "import matplotlib.pyplot as plt\n",
    "from natsort import natsorted"
   ]
  },
  {
   "cell_type": "code",
   "execution_count": 50,
   "metadata": {},
   "outputs": [],
   "source": [
    "cooldir = '/pollard/data/chromatin_organization/rao2014/distiller-0.3.1_hg19/results'\n",
    "fasta_file='/pollard/data/vertebrate_genomes/human/hg19/hg19/hg19.fa'"
   ]
  },
  {
   "cell_type": "code",
   "execution_count": 51,
   "metadata": {},
   "outputs": [],
   "source": [
    "cools = fileprocessing.get_files(cooldir)"
   ]
  },
  {
   "cell_type": "code",
   "execution_count": 52,
   "metadata": {},
   "outputs": [],
   "source": [
    "df = fileprocessing.cools_df(cools, resolution = 50000)"
   ]
  },
  {
   "cell_type": "code",
   "execution_count": 53,
   "metadata": {},
   "outputs": [
    {
     "data": {
      "text/html": [
       "<div>\n",
       "<style scoped>\n",
       "    .dataframe tbody tr th:only-of-type {\n",
       "        vertical-align: middle;\n",
       "    }\n",
       "\n",
       "    .dataframe tbody tr th {\n",
       "        vertical-align: top;\n",
       "    }\n",
       "\n",
       "    .dataframe thead th {\n",
       "        text-align: right;\n",
       "    }\n",
       "</style>\n",
       "<table border=\"1\" class=\"dataframe\">\n",
       "  <thead>\n",
       "    <tr style=\"text-align: right;\">\n",
       "      <th></th>\n",
       "      <th>cell_line</th>\n",
       "      <th>assembly</th>\n",
       "      <th>path</th>\n",
       "      <th>cooler</th>\n",
       "    </tr>\n",
       "  </thead>\n",
       "  <tbody>\n",
       "    <tr>\n",
       "      <th>0</th>\n",
       "      <td>NHEK</td>\n",
       "      <td>hg19</td>\n",
       "      <td>/pollard/data/chromatin_organization/rao2014/d...</td>\n",
       "      <td>&lt;Cooler \"NHEK_inSitu_MboI.hg19.mapq_30.1000.mc...</td>\n",
       "    </tr>\n",
       "    <tr>\n",
       "      <th>1</th>\n",
       "      <td>IMR90</td>\n",
       "      <td>hg19</td>\n",
       "      <td>/pollard/data/chromatin_organization/rao2014/d...</td>\n",
       "      <td>&lt;Cooler \"IMR90_inSitu_MboI.hg19.mapq_30.1000.m...</td>\n",
       "    </tr>\n",
       "    <tr>\n",
       "      <th>2</th>\n",
       "      <td>K562</td>\n",
       "      <td>hg19</td>\n",
       "      <td>/pollard/data/chromatin_organization/rao2014/d...</td>\n",
       "      <td>&lt;Cooler \"K562_inSitu_MboI.hg19.mapq_30.1000.mc...</td>\n",
       "    </tr>\n",
       "    <tr>\n",
       "      <th>3</th>\n",
       "      <td>HUVEC</td>\n",
       "      <td>hg19</td>\n",
       "      <td>/pollard/data/chromatin_organization/rao2014/d...</td>\n",
       "      <td>&lt;Cooler \"HUVEC_inSitu_MboI.hg19.mapq_30.1000.m...</td>\n",
       "    </tr>\n",
       "    <tr>\n",
       "      <th>4</th>\n",
       "      <td>HMEC</td>\n",
       "      <td>hg19</td>\n",
       "      <td>/pollard/data/chromatin_organization/rao2014/d...</td>\n",
       "      <td>&lt;Cooler \"HMEC_inSitu_MboI.hg19.mapq_30.1000.mc...</td>\n",
       "    </tr>\n",
       "    <tr>\n",
       "      <th>5</th>\n",
       "      <td>KBM7</td>\n",
       "      <td>hg19</td>\n",
       "      <td>/pollard/data/chromatin_organization/rao2014/d...</td>\n",
       "      <td>&lt;Cooler \"KBM7_inSitu_MboI.hg19.mapq_30.1000.mc...</td>\n",
       "    </tr>\n",
       "    <tr>\n",
       "      <th>6</th>\n",
       "      <td>GM12878</td>\n",
       "      <td>hg19</td>\n",
       "      <td>/pollard/data/chromatin_organization/rao2014/d...</td>\n",
       "      <td>&lt;Cooler \"GM12878_inSitu_MboI.hg19.mapq_30.1000...</td>\n",
       "    </tr>\n",
       "  </tbody>\n",
       "</table>\n",
       "</div>"
      ],
      "text/plain": [
       "  cell_line assembly                                               path  \\\n",
       "0      NHEK     hg19  /pollard/data/chromatin_organization/rao2014/d...   \n",
       "1     IMR90     hg19  /pollard/data/chromatin_organization/rao2014/d...   \n",
       "2      K562     hg19  /pollard/data/chromatin_organization/rao2014/d...   \n",
       "3     HUVEC     hg19  /pollard/data/chromatin_organization/rao2014/d...   \n",
       "4      HMEC     hg19  /pollard/data/chromatin_organization/rao2014/d...   \n",
       "5      KBM7     hg19  /pollard/data/chromatin_organization/rao2014/d...   \n",
       "6   GM12878     hg19  /pollard/data/chromatin_organization/rao2014/d...   \n",
       "\n",
       "                                              cooler  \n",
       "0  <Cooler \"NHEK_inSitu_MboI.hg19.mapq_30.1000.mc...  \n",
       "1  <Cooler \"IMR90_inSitu_MboI.hg19.mapq_30.1000.m...  \n",
       "2  <Cooler \"K562_inSitu_MboI.hg19.mapq_30.1000.mc...  \n",
       "3  <Cooler \"HUVEC_inSitu_MboI.hg19.mapq_30.1000.m...  \n",
       "4  <Cooler \"HMEC_inSitu_MboI.hg19.mapq_30.1000.mc...  \n",
       "5  <Cooler \"KBM7_inSitu_MboI.hg19.mapq_30.1000.mc...  \n",
       "6  <Cooler \"GM12878_inSitu_MboI.hg19.mapq_30.1000...  "
      ]
     },
     "execution_count": 53,
     "metadata": {},
     "output_type": "execute_result"
    }
   ],
   "source": [
    "df"
   ]
  },
  {
   "cell_type": "code",
   "execution_count": 54,
   "metadata": {},
   "outputs": [],
   "source": [
    "gc_dict = fileprocessing.get_gc(df, fasta_file)"
   ]
  },
  {
   "cell_type": "code",
   "execution_count": 55,
   "metadata": {},
   "outputs": [
    {
     "data": {
      "text/html": [
       "<div>\n",
       "<style scoped>\n",
       "    .dataframe tbody tr th:only-of-type {\n",
       "        vertical-align: middle;\n",
       "    }\n",
       "\n",
       "    .dataframe tbody tr th {\n",
       "        vertical-align: top;\n",
       "    }\n",
       "\n",
       "    .dataframe thead th {\n",
       "        text-align: right;\n",
       "    }\n",
       "</style>\n",
       "<table border=\"1\" class=\"dataframe\">\n",
       "  <thead>\n",
       "    <tr style=\"text-align: right;\">\n",
       "      <th></th>\n",
       "      <th>chrom</th>\n",
       "      <th>start</th>\n",
       "      <th>end</th>\n",
       "      <th>weight</th>\n",
       "      <th>GC</th>\n",
       "    </tr>\n",
       "  </thead>\n",
       "  <tbody>\n",
       "    <tr>\n",
       "      <th>0</th>\n",
       "      <td>chr1</td>\n",
       "      <td>0</td>\n",
       "      <td>50000</td>\n",
       "      <td>NaN</td>\n",
       "      <td>0.484250</td>\n",
       "    </tr>\n",
       "    <tr>\n",
       "      <th>1</th>\n",
       "      <td>chr1</td>\n",
       "      <td>50000</td>\n",
       "      <td>100000</td>\n",
       "      <td>NaN</td>\n",
       "      <td>0.376740</td>\n",
       "    </tr>\n",
       "    <tr>\n",
       "      <th>2</th>\n",
       "      <td>chr1</td>\n",
       "      <td>100000</td>\n",
       "      <td>150000</td>\n",
       "      <td>NaN</td>\n",
       "      <td>0.429960</td>\n",
       "    </tr>\n",
       "    <tr>\n",
       "      <th>3</th>\n",
       "      <td>chr1</td>\n",
       "      <td>150000</td>\n",
       "      <td>200000</td>\n",
       "      <td>NaN</td>\n",
       "      <td>0.447314</td>\n",
       "    </tr>\n",
       "    <tr>\n",
       "      <th>4</th>\n",
       "      <td>chr1</td>\n",
       "      <td>200000</td>\n",
       "      <td>250000</td>\n",
       "      <td>NaN</td>\n",
       "      <td>0.410796</td>\n",
       "    </tr>\n",
       "  </tbody>\n",
       "</table>\n",
       "</div>"
      ],
      "text/plain": [
       "  chrom   start     end  weight        GC\n",
       "0  chr1       0   50000     NaN  0.484250\n",
       "1  chr1   50000  100000     NaN  0.376740\n",
       "2  chr1  100000  150000     NaN  0.429960\n",
       "3  chr1  150000  200000     NaN  0.447314\n",
       "4  chr1  200000  250000     NaN  0.410796"
      ]
     },
     "execution_count": 55,
     "metadata": {},
     "output_type": "execute_result"
    }
   ],
   "source": [
    "gc_dict['hg19'].head()"
   ]
  },
  {
   "cell_type": "code",
   "execution_count": 56,
   "metadata": {},
   "outputs": [],
   "source": [
    "c = df.iloc[1].cooler"
   ]
  },
  {
   "cell_type": "code",
   "execution_count": 57,
   "metadata": {
    "scrolled": true
   },
   "outputs": [
    {
     "data": {
      "text/plain": [
       "name\n",
       "chr1    249250621\n",
       "chr2    243199373\n",
       "chr3    198022430\n",
       "chr4    191154276\n",
       "chr5    180915260\n",
       "Name: length, dtype: int32"
      ]
     },
     "execution_count": 57,
     "metadata": {},
     "output_type": "execute_result"
    }
   ],
   "source": [
    "chromsizes = c.chromsizes\n",
    "chromsizes.head()"
   ]
  },
  {
   "cell_type": "code",
   "execution_count": 58,
   "metadata": {},
   "outputs": [
    {
     "data": {
      "text/html": [
       "<div>\n",
       "<style scoped>\n",
       "    .dataframe tbody tr th:only-of-type {\n",
       "        vertical-align: middle;\n",
       "    }\n",
       "\n",
       "    .dataframe tbody tr th {\n",
       "        vertical-align: top;\n",
       "    }\n",
       "\n",
       "    .dataframe thead th {\n",
       "        text-align: right;\n",
       "    }\n",
       "</style>\n",
       "<table border=\"1\" class=\"dataframe\">\n",
       "  <thead>\n",
       "    <tr style=\"text-align: right;\">\n",
       "      <th></th>\n",
       "      <th>chrom</th>\n",
       "      <th>start</th>\n",
       "      <th>end</th>\n",
       "      <th>mid</th>\n",
       "    </tr>\n",
       "  </thead>\n",
       "  <tbody>\n",
       "    <tr>\n",
       "      <th>0</th>\n",
       "      <td>chr1</td>\n",
       "      <td>121500000</td>\n",
       "      <td>128900000</td>\n",
       "      <td>125200000</td>\n",
       "    </tr>\n",
       "    <tr>\n",
       "      <th>1</th>\n",
       "      <td>chr10</td>\n",
       "      <td>38000000</td>\n",
       "      <td>42300000</td>\n",
       "      <td>40150000</td>\n",
       "    </tr>\n",
       "    <tr>\n",
       "      <th>2</th>\n",
       "      <td>chr11</td>\n",
       "      <td>51600000</td>\n",
       "      <td>55700000</td>\n",
       "      <td>53650000</td>\n",
       "    </tr>\n",
       "    <tr>\n",
       "      <th>3</th>\n",
       "      <td>chr12</td>\n",
       "      <td>33300000</td>\n",
       "      <td>38200000</td>\n",
       "      <td>35750000</td>\n",
       "    </tr>\n",
       "    <tr>\n",
       "      <th>4</th>\n",
       "      <td>chr13</td>\n",
       "      <td>16300000</td>\n",
       "      <td>19500000</td>\n",
       "      <td>17900000</td>\n",
       "    </tr>\n",
       "  </tbody>\n",
       "</table>\n",
       "</div>"
      ],
      "text/plain": [
       "   chrom      start        end        mid\n",
       "0   chr1  121500000  128900000  125200000\n",
       "1  chr10   38000000   42300000   40150000\n",
       "2  chr11   51600000   55700000   53650000\n",
       "3  chr12   33300000   38200000   35750000\n",
       "4  chr13   16300000   19500000   17900000"
      ]
     },
     "execution_count": 58,
     "metadata": {},
     "output_type": "execute_result"
    }
   ],
   "source": [
    "midpoints = bioframe.fetch_centromeres('hg19')\n",
    "midpoints.head()"
   ]
  },
  {
   "cell_type": "code",
   "execution_count": 59,
   "metadata": {},
   "outputs": [
    {
     "data": {
      "text/html": [
       "<div>\n",
       "<style scoped>\n",
       "    .dataframe tbody tr th:only-of-type {\n",
       "        vertical-align: middle;\n",
       "    }\n",
       "\n",
       "    .dataframe tbody tr th {\n",
       "        vertical-align: top;\n",
       "    }\n",
       "\n",
       "    .dataframe thead th {\n",
       "        text-align: right;\n",
       "    }\n",
       "</style>\n",
       "<table border=\"1\" class=\"dataframe\">\n",
       "  <thead>\n",
       "    <tr style=\"text-align: right;\">\n",
       "      <th></th>\n",
       "      <th>chrom</th>\n",
       "      <th>start</th>\n",
       "      <th>end</th>\n",
       "      <th>name</th>\n",
       "    </tr>\n",
       "  </thead>\n",
       "  <tbody>\n",
       "    <tr>\n",
       "      <th>0</th>\n",
       "      <td>chr1</td>\n",
       "      <td>0</td>\n",
       "      <td>125200000</td>\n",
       "      <td>chr1p</td>\n",
       "    </tr>\n",
       "    <tr>\n",
       "      <th>1</th>\n",
       "      <td>chr1</td>\n",
       "      <td>125200000</td>\n",
       "      <td>249250621</td>\n",
       "      <td>chr1q</td>\n",
       "    </tr>\n",
       "    <tr>\n",
       "      <th>2</th>\n",
       "      <td>chr10</td>\n",
       "      <td>0</td>\n",
       "      <td>40150000</td>\n",
       "      <td>chr10p</td>\n",
       "    </tr>\n",
       "    <tr>\n",
       "      <th>3</th>\n",
       "      <td>chr10</td>\n",
       "      <td>40150000</td>\n",
       "      <td>135534747</td>\n",
       "      <td>chr10q</td>\n",
       "    </tr>\n",
       "    <tr>\n",
       "      <th>4</th>\n",
       "      <td>chr11</td>\n",
       "      <td>0</td>\n",
       "      <td>53650000</td>\n",
       "      <td>chr11p</td>\n",
       "    </tr>\n",
       "  </tbody>\n",
       "</table>\n",
       "</div>"
      ],
      "text/plain": [
       "   chrom      start        end    name\n",
       "0   chr1          0  125200000   chr1p\n",
       "1   chr1  125200000  249250621   chr1q\n",
       "2  chr10          0   40150000  chr10p\n",
       "3  chr10   40150000  135534747  chr10q\n",
       "4  chr11          0   53650000  chr11p"
      ]
     },
     "execution_count": 59,
     "metadata": {},
     "output_type": "execute_result"
    }
   ],
   "source": [
    "chromarms = bioframe.genomeops.make_chromarms(chromsizes, midpoints)\n",
    "chromarms = chromarms.replace(\"chrMp\", \"chrZ\")\n",
    "chromarms.head()"
   ]
  },
  {
   "cell_type": "code",
   "execution_count": 60,
   "metadata": {},
   "outputs": [],
   "source": [
    "rows = [row for index, row in chromarms.iterrows()]"
   ]
  },
  {
   "cell_type": "code",
   "execution_count": 61,
   "metadata": {},
   "outputs": [],
   "source": [
    "regions = [(chrom, start, end) for chrom, start, end, name in natsorted(rows, key=lambda x: x[-1])]"
   ]
  },
  {
   "cell_type": "code",
   "execution_count": 15,
   "metadata": {},
   "outputs": [],
   "source": [
    "cis_val, cis_eig = eigdecomp.cooler_cis_eig(\n",
    "                c, \n",
    "                gc_dict['hg19'], \n",
    "                regions = regions,\n",
    "                n_eigs=3, \n",
    "                balance=True,\n",
    "                ignore_diags = 3, clip_percentile=99.9)"
   ]
  },
  {
   "cell_type": "code",
   "execution_count": 62,
   "metadata": {},
   "outputs": [],
   "source": [
    "def get_corr(masked_track):\n",
    "    for chrom in masked_track.chrom.unique():\n",
    "        mask = masked_track.chrom==chrom\n",
    "        corrs = [stats.pearsonr(masked_track[mask]['E' + str(i)].values, masked_track[mask]['GC'].values)[0] for i in range(1, 4)]\n",
    "\n",
    "        print(chrom, corrs)"
   ]
  },
  {
   "cell_type": "code",
   "execution_count": 17,
   "metadata": {},
   "outputs": [
    {
     "name": "stdout",
     "output_type": "stream",
     "text": [
      "chr1 [0.5760729020807314, 0.2065656475174492, 0.35675200562613346]\n",
      "chr2 [0.5203116292159613, 0.4548183416885827, -0.08213577413185459]\n",
      "chr3 [0.6569516002500658, 0.22284012960355257, 0.2761650068437038]\n",
      "chr4 [0.46107248276059404, 0.2260910578435542, 0.26968338049495016]\n",
      "chr5 [0.5535487059851355, 0.32108218216638007, 0.18209876227868876]\n",
      "chr6 [0.4918259801107308, 0.04172003990163683, 0.14495112812273112]\n",
      "chr7 [0.5696311907257, 0.371450230592364, 0.19905008602188992]\n",
      "chr8 [0.4926266901622367, -0.017246587738823323, 0.2074389638056193]\n",
      "chr9 [0.5773280530253413, 0.30902078033573976, 0.016708141041244396]\n",
      "chr10 [0.35101010752114564, 0.5448906089595038, 0.25189881224600735]\n",
      "chr11 [0.6709529686809441, 0.20027860739143152, 0.25389301491222177]\n",
      "chr12 [0.6231250702200569, 0.32462970645372535, 0.23193275909517858]\n",
      "chr13 [0.5198499603930166, -0.09443489802895046, 0.4353309403129022]\n",
      "chr14 [0.6141183722338776, 0.09087185561211715, 0.14868067962359174]\n",
      "chr15 [0.41070636624608564, 0.051079961180937945, 0.17716884640680333]\n",
      "chr16 [0.6113802832419323, 0.1294790906152526, 0.21575389075745088]\n",
      "chr17 [0.5402136320160245, 0.016012315942776256, 0.18999401249224956]\n",
      "chr18 [0.4784987098555561, 0.2418057661229861, 0.07585010806842632]\n",
      "chr19 [0.7158136268520813, 0.10633996371538923, 0.08716896829461016]\n",
      "chr20 [0.4073700289379434, 0.37314249096801166, 0.03219219241693261]\n",
      "chr21 [0.6425993895892651, 0.36427861287964347, 0.02184109214666282]\n",
      "chr22 [0.29216398714567954, 0.14329899923405906, 0.0879927109647342]\n",
      "chrX [0.5784305508157358, 0.23064666337847145, 0.1911430310165266]\n",
      "chrY [0.320181614690253, 0.22164089967198325, -0.11366974074582412]\n"
     ]
    }
   ],
   "source": [
    "masked_track = cis_eig[~cis_eig['E1'].isna()]\n",
    "get_corr(masked_track)"
   ]
  },
  {
   "cell_type": "code",
   "execution_count": 63,
   "metadata": {},
   "outputs": [],
   "source": [
    "cis_val2, cis_eig2 = eigdecomp.cooler_cis_eig(\n",
    "                c, \n",
    "                gc_dict['hg19'], \n",
    "                regions = [(chrom, 0, c.chromsizes[chrom]) for chrom in c.chromnames],\n",
    "                n_eigs=3, \n",
    "                balance=True,\n",
    "                ignore_diags = 10, clip_percentile=99)"
   ]
  },
  {
   "cell_type": "code",
   "execution_count": 64,
   "metadata": {},
   "outputs": [
    {
     "name": "stdout",
     "output_type": "stream",
     "text": [
      "chr1 [0.39652038630589903, 0.36002003782411723, 0.1964370243212075]\n",
      "chr2 [0.4688861173399293, 0.20766052389617343, 0.022071300947166164]\n",
      "chr3 [0.49750588108373406, 0.21619657598951272, 0.09204178945955206]\n",
      "chr4 [0.49174410360999155, -0.015405559013747764, 0.06013765400448031]\n",
      "chr5 [0.4579078031775753, 0.14787697281036938, 0.24225868288630256]\n",
      "chr6 [0.3821634652606311, 0.14928286668391594, 0.11215169297023822]\n",
      "chr7 [0.3349793414570054, 0.2407934180996828, -0.032218692158224045]\n",
      "chr8 [0.357079870215968, 0.3296838194971181, 0.14597492200073042]\n",
      "chr9 [0.5711658957645288, 0.2986433127747504, 0.11379566636006394]\n",
      "chr10 [0.30876775447180727, 0.3097589533594183, 0.11243694180562129]\n",
      "chr11 [0.5108946887993217, 0.15974977542761912, -0.012532226616296136]\n",
      "chr12 [0.40788024576760273, 0.5182804108893679, 0.15849146287054885]\n",
      "chr13 [0.4600708784284215, 0.06417472569006427, 0.37078961672090827]\n",
      "chr14 [0.41067310697546133, 0.4021637472371443, 0.07691660812135838]\n",
      "chr15 [0.28395494116283804, 0.07632646368613508, 0.06837137176234385]\n",
      "chr16 [0.6493032930614053, -0.03357938998304109, 0.27118262361056034]\n",
      "chr17 [0.42012500485947596, 0.2207737355953481, 0.1889231255155842]\n",
      "chr18 [0.39941415808827535, 0.0673999971215932, 0.2236958770316808]\n",
      "chr19 [0.6731448480730711, 0.20169410847390548, 0.2325953571656169]\n",
      "chr20 [0.4724862471014202, 0.3298944375559878, -0.04580686248190318]\n",
      "chr21 [0.5740814551651736, 0.019462183529583302, 0.06866951471660472]\n",
      "chr22 [0.294787966712277, 0.19280915687178873, 0.14092378134230082]\n",
      "chrX [0.6057230237832735, 0.12618154283498723, 0.2771958893105142]\n",
      "chrY [0.3058254041053773, 0.37060222926342146, 0.1775474559820263]\n"
     ]
    }
   ],
   "source": [
    "masked_track2 = cis_eig2[~cis_eig2['E1'].isna()]\n",
    "get_corr(masked_track2)"
   ]
  },
  {
   "cell_type": "code",
   "execution_count": 65,
   "metadata": {
    "scrolled": true
   },
   "outputs": [
    {
     "data": {
      "text/plain": [
       "[<matplotlib.lines.Line2D at 0x7f57f1368d90>]"
      ]
     },
     "execution_count": 65,
     "metadata": {},
     "output_type": "execute_result"
    },
    {
     "data": {
      "image/png": "[encoded data removed]",
      "text/plain": [
       "<Figure size 1440x216 with 1 Axes>"
      ]
     },
     "metadata": {
      "needs_background": "light"
     },
     "output_type": "display_data"
    }
   ],
   "source": [
    "plt.figure(figsize=(20, 3))\n",
    "chrom = 'chr19'\n",
    "y1 = masked_track[masked_track.chrom == chrom]['E1'].values\n",
    "plt.plot(y1)\n",
    "y2 = masked_track2[masked_track2.chrom == chrom]['E1'].values\n",
    "plt.plot(y2)"
   ]
  },
  {
   "cell_type": "code",
   "execution_count": 66,
   "metadata": {},
   "outputs": [
    {
     "data": {
      "text/plain": [
       "<module 'HMMC.HMMC' from '/pollard/home/lchumpitaz/Hi-C/testing/HMMC/HMMC.py'>"
      ]
     },
     "execution_count": 66,
     "metadata": {},
     "output_type": "execute_result"
    }
   ],
   "source": [
    "reload(HMMC)"
   ]
  },
  {
   "cell_type": "code",
   "execution_count": 67,
   "metadata": {},
   "outputs": [
    {
     "name": "stderr",
     "output_type": "stream",
     "text": [
      "Fitting a model with 47 free scalar parameters with only 45 data points will result in a degenerate solution.\n"
     ]
    },
    {
     "name": "stdout",
     "output_type": "stream",
     "text": [
      "[ 0.  2. -2. ...  2.  0.  0.]\n"
     ]
    }
   ],
   "source": [
    "hmm_track = HMMC.auto_analyze(cis_eig2)"
   ]
  },
  {
   "cell_type": "code",
   "execution_count": 68,
   "metadata": {},
   "outputs": [
    {
     "data": {
      "text/html": [
       "<div>\n",
       "<style scoped>\n",
       "    .dataframe tbody tr th:only-of-type {\n",
       "        vertical-align: middle;\n",
       "    }\n",
       "\n",
       "    .dataframe tbody tr th {\n",
       "        vertical-align: top;\n",
       "    }\n",
       "\n",
       "    .dataframe thead th {\n",
       "        text-align: right;\n",
       "    }\n",
       "</style>\n",
       "<table border=\"1\" class=\"dataframe\">\n",
       "  <thead>\n",
       "    <tr style=\"text-align: right;\">\n",
       "      <th></th>\n",
       "      <th>chrom</th>\n",
       "      <th>start</th>\n",
       "      <th>end</th>\n",
       "      <th>weight</th>\n",
       "      <th>GC</th>\n",
       "      <th>E1</th>\n",
       "      <th>E2</th>\n",
       "      <th>E3</th>\n",
       "      <th>binary</th>\n",
       "      <th>HMM2</th>\n",
       "      <th>HMM3</th>\n",
       "      <th>HMM4</th>\n",
       "      <th>HMM5</th>\n",
       "      <th>HMM6</th>\n",
       "      <th>HMM5_2</th>\n",
       "    </tr>\n",
       "  </thead>\n",
       "  <tbody>\n",
       "    <tr>\n",
       "      <th>0</th>\n",
       "      <td>chr1</td>\n",
       "      <td>0</td>\n",
       "      <td>50000</td>\n",
       "      <td>NaN</td>\n",
       "      <td>0.484250</td>\n",
       "      <td>NaN</td>\n",
       "      <td>NaN</td>\n",
       "      <td>NaN</td>\n",
       "      <td>NaN</td>\n",
       "      <td>NaN</td>\n",
       "      <td>NaN</td>\n",
       "      <td>NaN</td>\n",
       "      <td>NaN</td>\n",
       "      <td>NaN</td>\n",
       "      <td>NaN</td>\n",
       "    </tr>\n",
       "    <tr>\n",
       "      <th>1</th>\n",
       "      <td>chr1</td>\n",
       "      <td>50000</td>\n",
       "      <td>100000</td>\n",
       "      <td>NaN</td>\n",
       "      <td>0.376740</td>\n",
       "      <td>NaN</td>\n",
       "      <td>NaN</td>\n",
       "      <td>NaN</td>\n",
       "      <td>NaN</td>\n",
       "      <td>NaN</td>\n",
       "      <td>NaN</td>\n",
       "      <td>NaN</td>\n",
       "      <td>NaN</td>\n",
       "      <td>NaN</td>\n",
       "      <td>NaN</td>\n",
       "    </tr>\n",
       "    <tr>\n",
       "      <th>2</th>\n",
       "      <td>chr1</td>\n",
       "      <td>100000</td>\n",
       "      <td>150000</td>\n",
       "      <td>NaN</td>\n",
       "      <td>0.429960</td>\n",
       "      <td>NaN</td>\n",
       "      <td>NaN</td>\n",
       "      <td>NaN</td>\n",
       "      <td>NaN</td>\n",
       "      <td>NaN</td>\n",
       "      <td>NaN</td>\n",
       "      <td>NaN</td>\n",
       "      <td>NaN</td>\n",
       "      <td>NaN</td>\n",
       "      <td>NaN</td>\n",
       "    </tr>\n",
       "    <tr>\n",
       "      <th>3</th>\n",
       "      <td>chr1</td>\n",
       "      <td>150000</td>\n",
       "      <td>200000</td>\n",
       "      <td>NaN</td>\n",
       "      <td>0.447314</td>\n",
       "      <td>NaN</td>\n",
       "      <td>NaN</td>\n",
       "      <td>NaN</td>\n",
       "      <td>NaN</td>\n",
       "      <td>NaN</td>\n",
       "      <td>NaN</td>\n",
       "      <td>NaN</td>\n",
       "      <td>NaN</td>\n",
       "      <td>NaN</td>\n",
       "      <td>NaN</td>\n",
       "    </tr>\n",
       "    <tr>\n",
       "      <th>4</th>\n",
       "      <td>chr1</td>\n",
       "      <td>200000</td>\n",
       "      <td>250000</td>\n",
       "      <td>NaN</td>\n",
       "      <td>0.410796</td>\n",
       "      <td>NaN</td>\n",
       "      <td>NaN</td>\n",
       "      <td>NaN</td>\n",
       "      <td>NaN</td>\n",
       "      <td>NaN</td>\n",
       "      <td>NaN</td>\n",
       "      <td>NaN</td>\n",
       "      <td>NaN</td>\n",
       "      <td>NaN</td>\n",
       "      <td>NaN</td>\n",
       "    </tr>\n",
       "    <tr>\n",
       "      <th>...</th>\n",
       "      <td>...</td>\n",
       "      <td>...</td>\n",
       "      <td>...</td>\n",
       "      <td>...</td>\n",
       "      <td>...</td>\n",
       "      <td>...</td>\n",
       "      <td>...</td>\n",
       "      <td>...</td>\n",
       "      <td>...</td>\n",
       "      <td>...</td>\n",
       "      <td>...</td>\n",
       "      <td>...</td>\n",
       "      <td>...</td>\n",
       "      <td>...</td>\n",
       "      <td>...</td>\n",
       "    </tr>\n",
       "    <tr>\n",
       "      <th>61923</th>\n",
       "      <td>chrY</td>\n",
       "      <td>59200000</td>\n",
       "      <td>59250000</td>\n",
       "      <td>NaN</td>\n",
       "      <td>0.388820</td>\n",
       "      <td>NaN</td>\n",
       "      <td>NaN</td>\n",
       "      <td>NaN</td>\n",
       "      <td>NaN</td>\n",
       "      <td>NaN</td>\n",
       "      <td>NaN</td>\n",
       "      <td>NaN</td>\n",
       "      <td>NaN</td>\n",
       "      <td>NaN</td>\n",
       "      <td>NaN</td>\n",
       "    </tr>\n",
       "    <tr>\n",
       "      <th>61924</th>\n",
       "      <td>chrY</td>\n",
       "      <td>59250000</td>\n",
       "      <td>59300000</td>\n",
       "      <td>NaN</td>\n",
       "      <td>0.398220</td>\n",
       "      <td>NaN</td>\n",
       "      <td>NaN</td>\n",
       "      <td>NaN</td>\n",
       "      <td>NaN</td>\n",
       "      <td>NaN</td>\n",
       "      <td>NaN</td>\n",
       "      <td>NaN</td>\n",
       "      <td>NaN</td>\n",
       "      <td>NaN</td>\n",
       "      <td>NaN</td>\n",
       "    </tr>\n",
       "    <tr>\n",
       "      <th>61925</th>\n",
       "      <td>chrY</td>\n",
       "      <td>59300000</td>\n",
       "      <td>59350000</td>\n",
       "      <td>NaN</td>\n",
       "      <td>0.479240</td>\n",
       "      <td>NaN</td>\n",
       "      <td>NaN</td>\n",
       "      <td>NaN</td>\n",
       "      <td>NaN</td>\n",
       "      <td>NaN</td>\n",
       "      <td>NaN</td>\n",
       "      <td>NaN</td>\n",
       "      <td>NaN</td>\n",
       "      <td>NaN</td>\n",
       "      <td>NaN</td>\n",
       "    </tr>\n",
       "    <tr>\n",
       "      <th>61926</th>\n",
       "      <td>chrY</td>\n",
       "      <td>59350000</td>\n",
       "      <td>59373566</td>\n",
       "      <td>NaN</td>\n",
       "      <td>0.563615</td>\n",
       "      <td>NaN</td>\n",
       "      <td>NaN</td>\n",
       "      <td>NaN</td>\n",
       "      <td>NaN</td>\n",
       "      <td>NaN</td>\n",
       "      <td>NaN</td>\n",
       "      <td>NaN</td>\n",
       "      <td>NaN</td>\n",
       "      <td>NaN</td>\n",
       "      <td>NaN</td>\n",
       "    </tr>\n",
       "    <tr>\n",
       "      <th>61927</th>\n",
       "      <td>chrM</td>\n",
       "      <td>0</td>\n",
       "      <td>16571</td>\n",
       "      <td>0.000135</td>\n",
       "      <td>0.444874</td>\n",
       "      <td>NaN</td>\n",
       "      <td>NaN</td>\n",
       "      <td>NaN</td>\n",
       "      <td>NaN</td>\n",
       "      <td>NaN</td>\n",
       "      <td>NaN</td>\n",
       "      <td>NaN</td>\n",
       "      <td>NaN</td>\n",
       "      <td>NaN</td>\n",
       "      <td>NaN</td>\n",
       "    </tr>\n",
       "  </tbody>\n",
       "</table>\n",
       "<p>61928 rows × 15 columns</p>\n",
       "</div>"
      ],
      "text/plain": [
       "      chrom     start       end    weight        GC  E1  E2  E3  binary  HMM2  \\\n",
       "0      chr1         0     50000       NaN  0.484250 NaN NaN NaN     NaN   NaN   \n",
       "1      chr1     50000    100000       NaN  0.376740 NaN NaN NaN     NaN   NaN   \n",
       "2      chr1    100000    150000       NaN  0.429960 NaN NaN NaN     NaN   NaN   \n",
       "3      chr1    150000    200000       NaN  0.447314 NaN NaN NaN     NaN   NaN   \n",
       "4      chr1    200000    250000       NaN  0.410796 NaN NaN NaN     NaN   NaN   \n",
       "...     ...       ...       ...       ...       ...  ..  ..  ..     ...   ...   \n",
       "61923  chrY  59200000  59250000       NaN  0.388820 NaN NaN NaN     NaN   NaN   \n",
       "61924  chrY  59250000  59300000       NaN  0.398220 NaN NaN NaN     NaN   NaN   \n",
       "61925  chrY  59300000  59350000       NaN  0.479240 NaN NaN NaN     NaN   NaN   \n",
       "61926  chrY  59350000  59373566       NaN  0.563615 NaN NaN NaN     NaN   NaN   \n",
       "61927  chrM         0     16571  0.000135  0.444874 NaN NaN NaN     NaN   NaN   \n",
       "\n",
       "       HMM3  HMM4  HMM5  HMM6  HMM5_2  \n",
       "0       NaN   NaN   NaN   NaN     NaN  \n",
       "1       NaN   NaN   NaN   NaN     NaN  \n",
       "2       NaN   NaN   NaN   NaN     NaN  \n",
       "3       NaN   NaN   NaN   NaN     NaN  \n",
       "4       NaN   NaN   NaN   NaN     NaN  \n",
       "...     ...   ...   ...   ...     ...  \n",
       "61923   NaN   NaN   NaN   NaN     NaN  \n",
       "61924   NaN   NaN   NaN   NaN     NaN  \n",
       "61925   NaN   NaN   NaN   NaN     NaN  \n",
       "61926   NaN   NaN   NaN   NaN     NaN  \n",
       "61927   NaN   NaN   NaN   NaN     NaN  \n",
       "\n",
       "[61928 rows x 15 columns]"
      ]
     },
     "execution_count": 68,
     "metadata": {},
     "output_type": "execute_result"
    }
   ],
   "source": [
    "hmm_track"
   ]
  },
  {
   "cell_type": "code",
   "execution_count": 69,
   "metadata": {},
   "outputs": [
    {
     "data": {
      "text/plain": [
       "[<matplotlib.lines.Line2D at 0x7f587a041b50>]"
      ]
     },
     "execution_count": 69,
     "metadata": {},
     "output_type": "execute_result"
    },
    {
     "data": {
      "image/png": "[encoded data removed]",
      "text/plain": [
       "<Figure size 1440x216 with 1 Axes>"
      ]
     },
     "metadata": {
      "needs_background": "light"
     },
     "output_type": "display_data"
    }
   ],
   "source": [
    "plt.figure(figsize=(20, 3))\n",
    "chrom = 'chr19'\n",
    "mask = (~hmm_track['E1'].isna()) & (hmm_track.chrom == chrom)\n",
    "y1 = hmm_track[mask]['E1'].values\n",
    "plt.plot(y1)\n",
    "y2 = hmm_track[mask]['HMM3'].values - 1\n",
    "plt.plot(y2)"
   ]
  },
  {
   "cell_type": "code",
   "execution_count": 70,
   "metadata": {},
   "outputs": [],
   "source": [
    "hmm_track.to_csv('../annotations/IMR90.csv', index=False)"
   ]
  },
  {
   "cell_type": "code",
   "execution_count": null,
   "metadata": {},
   "outputs": [],
   "source": []
  }
 ],
 "metadata": {
  "kernelspec": {
   "display_name": "Python 3",
   "language": "python",
   "name": "python3"
  },
  "language_info": {
   "codemirror_mode": {
    "name": "ipython",
    "version": 3
   },
   "file_extension": ".py",
   "mimetype": "text/x-python",
   "name": "python",
   "nbconvert_exporter": "python",
   "pygments_lexer": "ipython3",
   "version": "3.7.9"
  }
 },
 "nbformat": 4,
 "nbformat_minor": 4
}
