{
 "cells": [
  {
   "cell_type": "code",
   "execution_count": 1,
   "metadata": {},
   "outputs": [],
   "source": [
    "import cooltools\n",
    "import bioframe\n",
    "import cooler\n",
    "from HMMC import HMMC, fileprocessing"
   ]
  },
  {
   "cell_type": "code",
   "execution_count": 2,
   "metadata": {},
   "outputs": [],
   "source": [
    "cooldir = '/pollard/data/chromatin_organization/rao2014/distiller-0.3.1_hg19/results'\n",
    "fasta_file='/pollard/data/vertebrate_genomes/human/hg19/hg19/hg19.fa'"
   ]
  },
  {
   "cell_type": "code",
   "execution_count": 3,
   "metadata": {},
   "outputs": [],
   "source": [
    "cools = fileprocessing.get_files(cooldir)"
   ]
  },
  {
   "cell_type": "code",
   "execution_count": 4,
   "metadata": {},
   "outputs": [],
   "source": [
    "df = fileprocessing.cools_df(cools, resolution = 100000)"
   ]
  },
  {
   "cell_type": "code",
   "execution_count": 5,
   "metadata": {},
   "outputs": [
    {
     "data": {
      "text/html": [
       "<div>\n",
       "<style scoped>\n",
       "    .dataframe tbody tr th:only-of-type {\n",
       "        vertical-align: middle;\n",
       "    }\n",
       "\n",
       "    .dataframe tbody tr th {\n",
       "        vertical-align: top;\n",
       "    }\n",
       "\n",
       "    .dataframe thead th {\n",
       "        text-align: right;\n",
       "    }\n",
       "</style>\n",
       "<table border=\"1\" class=\"dataframe\">\n",
       "  <thead>\n",
       "    <tr style=\"text-align: right;\">\n",
       "      <th></th>\n",
       "      <th>cell_line</th>\n",
       "      <th>assembly</th>\n",
       "      <th>path</th>\n",
       "      <th>cooler</th>\n",
       "    </tr>\n",
       "  </thead>\n",
       "  <tbody>\n",
       "    <tr>\n",
       "      <th>0</th>\n",
       "      <td>NHEK</td>\n",
       "      <td>hg19</td>\n",
       "      <td>/pollard/data/chromatin_organization/rao2014/d...</td>\n",
       "      <td>&lt;Cooler \"NHEK_inSitu_MboI.hg19.mapq_30.1000.mc...</td>\n",
       "    </tr>\n",
       "    <tr>\n",
       "      <th>1</th>\n",
       "      <td>IMR90</td>\n",
       "      <td>hg19</td>\n",
       "      <td>/pollard/data/chromatin_organization/rao2014/d...</td>\n",
       "      <td>&lt;Cooler \"IMR90_inSitu_MboI.hg19.mapq_30.1000.m...</td>\n",
       "    </tr>\n",
       "    <tr>\n",
       "      <th>2</th>\n",
       "      <td>K562</td>\n",
       "      <td>hg19</td>\n",
       "      <td>/pollard/data/chromatin_organization/rao2014/d...</td>\n",
       "      <td>&lt;Cooler \"K562_inSitu_MboI.hg19.mapq_30.1000.mc...</td>\n",
       "    </tr>\n",
       "    <tr>\n",
       "      <th>3</th>\n",
       "      <td>HUVEC</td>\n",
       "      <td>hg19</td>\n",
       "      <td>/pollard/data/chromatin_organization/rao2014/d...</td>\n",
       "      <td>&lt;Cooler \"HUVEC_inSitu_MboI.hg19.mapq_30.1000.m...</td>\n",
       "    </tr>\n",
       "    <tr>\n",
       "      <th>4</th>\n",
       "      <td>HMEC</td>\n",
       "      <td>hg19</td>\n",
       "      <td>/pollard/data/chromatin_organization/rao2014/d...</td>\n",
       "      <td>&lt;Cooler \"HMEC_inSitu_MboI.hg19.mapq_30.1000.mc...</td>\n",
       "    </tr>\n",
       "    <tr>\n",
       "      <th>5</th>\n",
       "      <td>KBM7</td>\n",
       "      <td>hg19</td>\n",
       "      <td>/pollard/data/chromatin_organization/rao2014/d...</td>\n",
       "      <td>&lt;Cooler \"KBM7_inSitu_MboI.hg19.mapq_30.1000.mc...</td>\n",
       "    </tr>\n",
       "    <tr>\n",
       "      <th>6</th>\n",
       "      <td>GM12878</td>\n",
       "      <td>hg19</td>\n",
       "      <td>/pollard/data/chromatin_organization/rao2014/d...</td>\n",
       "      <td>&lt;Cooler \"GM12878_inSitu_MboI.hg19.mapq_30.1000...</td>\n",
       "    </tr>\n",
       "  </tbody>\n",
       "</table>\n",
       "</div>"
      ],
      "text/plain": [
       "  cell_line assembly                                               path  \\\n",
       "0      NHEK     hg19  /pollard/data/chromatin_organization/rao2014/d...   \n",
       "1     IMR90     hg19  /pollard/data/chromatin_organization/rao2014/d...   \n",
       "2      K562     hg19  /pollard/data/chromatin_organization/rao2014/d...   \n",
       "3     HUVEC     hg19  /pollard/data/chromatin_organization/rao2014/d...   \n",
       "4      HMEC     hg19  /pollard/data/chromatin_organization/rao2014/d...   \n",
       "5      KBM7     hg19  /pollard/data/chromatin_organization/rao2014/d...   \n",
       "6   GM12878     hg19  /pollard/data/chromatin_organization/rao2014/d...   \n",
       "\n",
       "                                              cooler  \n",
       "0  <Cooler \"NHEK_inSitu_MboI.hg19.mapq_30.1000.mc...  \n",
       "1  <Cooler \"IMR90_inSitu_MboI.hg19.mapq_30.1000.m...  \n",
       "2  <Cooler \"K562_inSitu_MboI.hg19.mapq_30.1000.mc...  \n",
       "3  <Cooler \"HUVEC_inSitu_MboI.hg19.mapq_30.1000.m...  \n",
       "4  <Cooler \"HMEC_inSitu_MboI.hg19.mapq_30.1000.mc...  \n",
       "5  <Cooler \"KBM7_inSitu_MboI.hg19.mapq_30.1000.mc...  \n",
       "6  <Cooler \"GM12878_inSitu_MboI.hg19.mapq_30.1000...  "
      ]
     },
     "execution_count": 5,
     "metadata": {},
     "output_type": "execute_result"
    }
   ],
   "source": [
    "df"
   ]
  },
  {
   "cell_type": "code",
   "execution_count": 6,
   "metadata": {},
   "outputs": [],
   "source": [
    "gc_dict = fileprocessing.get_gc(df, fasta_file)"
   ]
  },
  {
   "cell_type": "code",
   "execution_count": null,
   "metadata": {},
   "outputs": [],
   "source": []
  }
 ],
 "metadata": {
  "kernelspec": {
   "display_name": "Python 3",
   "language": "python",
   "name": "python3"
  },
  "language_info": {
   "codemirror_mode": {
    "name": "ipython",
    "version": 3
   },
   "file_extension": ".py",
   "mimetype": "text/x-python",
   "name": "python",
   "nbconvert_exporter": "python",
   "pygments_lexer": "ipython3",
   "version": "3.7.9"
  }
 },
 "nbformat": 4,
 "nbformat_minor": 4
}
