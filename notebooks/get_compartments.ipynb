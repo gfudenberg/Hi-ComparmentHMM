{
 "cells": [
  {
   "cell_type": "code",
   "execution_count": 1,
   "metadata": {},
   "outputs": [],
   "source": [
    "import cooltools\n",
    "import bioframe\n",
    "import cooler\n",
    "import pandas as pd\n",
    "from HMMC import HMMC, fileprocessing\n",
    "from importlib import reload  \n",
    "import numpy as np\n",
    "from cooltools import eigdecomp\n",
    "from scipy import stats\n",
    "import matplotlib.pyplot as plt"
   ]
  },
  {
   "cell_type": "code",
   "execution_count": 2,
   "metadata": {},
   "outputs": [],
   "source": [
    "cooldir = '/pollard/data/chromatin_organization/rao2014/distiller-0.3.1_hg19/results'\n",
    "fasta_file='/pollard/data/vertebrate_genomes/human/hg19/hg19/hg19.fa'"
   ]
  },
  {
   "cell_type": "code",
   "execution_count": 3,
   "metadata": {},
   "outputs": [],
   "source": [
    "cools = fileprocessing.get_files(cooldir)"
   ]
  },
  {
   "cell_type": "code",
   "execution_count": 4,
   "metadata": {},
   "outputs": [],
   "source": [
    "df = fileprocessing.cools_df(cools, resolution = 50000)"
   ]
  },
  {
   "cell_type": "code",
   "execution_count": 5,
   "metadata": {},
   "outputs": [
    {
     "data": {
      "text/html": [
       "<div>\n",
       "<style scoped>\n",
       "    .dataframe tbody tr th:only-of-type {\n",
       "        vertical-align: middle;\n",
       "    }\n",
       "\n",
       "    .dataframe tbody tr th {\n",
       "        vertical-align: top;\n",
       "    }\n",
       "\n",
       "    .dataframe thead th {\n",
       "        text-align: right;\n",
       "    }\n",
       "</style>\n",
       "<table border=\"1\" class=\"dataframe\">\n",
       "  <thead>\n",
       "    <tr style=\"text-align: right;\">\n",
       "      <th></th>\n",
       "      <th>cell_line</th>\n",
       "      <th>assembly</th>\n",
       "      <th>path</th>\n",
       "      <th>cooler</th>\n",
       "    </tr>\n",
       "  </thead>\n",
       "  <tbody>\n",
       "    <tr>\n",
       "      <th>0</th>\n",
       "      <td>NHEK</td>\n",
       "      <td>hg19</td>\n",
       "      <td>/pollard/data/chromatin_organization/rao2014/d...</td>\n",
       "      <td>&lt;Cooler \"NHEK_inSitu_MboI.hg19.mapq_30.1000.mc...</td>\n",
       "    </tr>\n",
       "    <tr>\n",
       "      <th>1</th>\n",
       "      <td>IMR90</td>\n",
       "      <td>hg19</td>\n",
       "      <td>/pollard/data/chromatin_organization/rao2014/d...</td>\n",
       "      <td>&lt;Cooler \"IMR90_inSitu_MboI.hg19.mapq_30.1000.m...</td>\n",
       "    </tr>\n",
       "    <tr>\n",
       "      <th>2</th>\n",
       "      <td>K562</td>\n",
       "      <td>hg19</td>\n",
       "      <td>/pollard/data/chromatin_organization/rao2014/d...</td>\n",
       "      <td>&lt;Cooler \"K562_inSitu_MboI.hg19.mapq_30.1000.mc...</td>\n",
       "    </tr>\n",
       "    <tr>\n",
       "      <th>3</th>\n",
       "      <td>HUVEC</td>\n",
       "      <td>hg19</td>\n",
       "      <td>/pollard/data/chromatin_organization/rao2014/d...</td>\n",
       "      <td>&lt;Cooler \"HUVEC_inSitu_MboI.hg19.mapq_30.1000.m...</td>\n",
       "    </tr>\n",
       "    <tr>\n",
       "      <th>4</th>\n",
       "      <td>HMEC</td>\n",
       "      <td>hg19</td>\n",
       "      <td>/pollard/data/chromatin_organization/rao2014/d...</td>\n",
       "      <td>&lt;Cooler \"HMEC_inSitu_MboI.hg19.mapq_30.1000.mc...</td>\n",
       "    </tr>\n",
       "    <tr>\n",
       "      <th>5</th>\n",
       "      <td>KBM7</td>\n",
       "      <td>hg19</td>\n",
       "      <td>/pollard/data/chromatin_organization/rao2014/d...</td>\n",
       "      <td>&lt;Cooler \"KBM7_inSitu_MboI.hg19.mapq_30.1000.mc...</td>\n",
       "    </tr>\n",
       "    <tr>\n",
       "      <th>6</th>\n",
       "      <td>GM12878</td>\n",
       "      <td>hg19</td>\n",
       "      <td>/pollard/data/chromatin_organization/rao2014/d...</td>\n",
       "      <td>&lt;Cooler \"GM12878_inSitu_MboI.hg19.mapq_30.1000...</td>\n",
       "    </tr>\n",
       "  </tbody>\n",
       "</table>\n",
       "</div>"
      ],
      "text/plain": [
       "  cell_line assembly                                               path  \\\n",
       "0      NHEK     hg19  /pollard/data/chromatin_organization/rao2014/d...   \n",
       "1     IMR90     hg19  /pollard/data/chromatin_organization/rao2014/d...   \n",
       "2      K562     hg19  /pollard/data/chromatin_organization/rao2014/d...   \n",
       "3     HUVEC     hg19  /pollard/data/chromatin_organization/rao2014/d...   \n",
       "4      HMEC     hg19  /pollard/data/chromatin_organization/rao2014/d...   \n",
       "5      KBM7     hg19  /pollard/data/chromatin_organization/rao2014/d...   \n",
       "6   GM12878     hg19  /pollard/data/chromatin_organization/rao2014/d...   \n",
       "\n",
       "                                              cooler  \n",
       "0  <Cooler \"NHEK_inSitu_MboI.hg19.mapq_30.1000.mc...  \n",
       "1  <Cooler \"IMR90_inSitu_MboI.hg19.mapq_30.1000.m...  \n",
       "2  <Cooler \"K562_inSitu_MboI.hg19.mapq_30.1000.mc...  \n",
       "3  <Cooler \"HUVEC_inSitu_MboI.hg19.mapq_30.1000.m...  \n",
       "4  <Cooler \"HMEC_inSitu_MboI.hg19.mapq_30.1000.mc...  \n",
       "5  <Cooler \"KBM7_inSitu_MboI.hg19.mapq_30.1000.mc...  \n",
       "6  <Cooler \"GM12878_inSitu_MboI.hg19.mapq_30.1000...  "
      ]
     },
     "execution_count": 5,
     "metadata": {},
     "output_type": "execute_result"
    }
   ],
   "source": [
    "df"
   ]
  },
  {
   "cell_type": "code",
   "execution_count": 6,
   "metadata": {},
   "outputs": [],
   "source": [
    "gc_dict = fileprocessing.get_gc(df, fasta_file)"
   ]
  },
  {
   "cell_type": "code",
   "execution_count": 7,
   "metadata": {},
   "outputs": [
    {
     "data": {
      "text/html": [
       "<div>\n",
       "<style scoped>\n",
       "    .dataframe tbody tr th:only-of-type {\n",
       "        vertical-align: middle;\n",
       "    }\n",
       "\n",
       "    .dataframe tbody tr th {\n",
       "        vertical-align: top;\n",
       "    }\n",
       "\n",
       "    .dataframe thead th {\n",
       "        text-align: right;\n",
       "    }\n",
       "</style>\n",
       "<table border=\"1\" class=\"dataframe\">\n",
       "  <thead>\n",
       "    <tr style=\"text-align: right;\">\n",
       "      <th></th>\n",
       "      <th>chrom</th>\n",
       "      <th>start</th>\n",
       "      <th>end</th>\n",
       "      <th>weight</th>\n",
       "      <th>GC</th>\n",
       "    </tr>\n",
       "  </thead>\n",
       "  <tbody>\n",
       "    <tr>\n",
       "      <th>0</th>\n",
       "      <td>chr1</td>\n",
       "      <td>0</td>\n",
       "      <td>50000</td>\n",
       "      <td>NaN</td>\n",
       "      <td>0.484250</td>\n",
       "    </tr>\n",
       "    <tr>\n",
       "      <th>1</th>\n",
       "      <td>chr1</td>\n",
       "      <td>50000</td>\n",
       "      <td>100000</td>\n",
       "      <td>NaN</td>\n",
       "      <td>0.376740</td>\n",
       "    </tr>\n",
       "    <tr>\n",
       "      <th>2</th>\n",
       "      <td>chr1</td>\n",
       "      <td>100000</td>\n",
       "      <td>150000</td>\n",
       "      <td>NaN</td>\n",
       "      <td>0.429960</td>\n",
       "    </tr>\n",
       "    <tr>\n",
       "      <th>3</th>\n",
       "      <td>chr1</td>\n",
       "      <td>150000</td>\n",
       "      <td>200000</td>\n",
       "      <td>NaN</td>\n",
       "      <td>0.447314</td>\n",
       "    </tr>\n",
       "    <tr>\n",
       "      <th>4</th>\n",
       "      <td>chr1</td>\n",
       "      <td>200000</td>\n",
       "      <td>250000</td>\n",
       "      <td>NaN</td>\n",
       "      <td>0.410796</td>\n",
       "    </tr>\n",
       "  </tbody>\n",
       "</table>\n",
       "</div>"
      ],
      "text/plain": [
       "  chrom   start     end  weight        GC\n",
       "0  chr1       0   50000     NaN  0.484250\n",
       "1  chr1   50000  100000     NaN  0.376740\n",
       "2  chr1  100000  150000     NaN  0.429960\n",
       "3  chr1  150000  200000     NaN  0.447314\n",
       "4  chr1  200000  250000     NaN  0.410796"
      ]
     },
     "execution_count": 7,
     "metadata": {},
     "output_type": "execute_result"
    }
   ],
   "source": [
    "gc_dict['hg19'].head()"
   ]
  },
  {
   "cell_type": "code",
   "execution_count": 8,
   "metadata": {},
   "outputs": [],
   "source": [
    "c = df.iloc[6].cooler"
   ]
  },
  {
   "cell_type": "code",
   "execution_count": 9,
   "metadata": {
    "scrolled": true
   },
   "outputs": [
    {
     "data": {
      "text/plain": [
       "name\n",
       "chr1    249250621\n",
       "chr2    243199373\n",
       "chr3    198022430\n",
       "chr4    191154276\n",
       "chr5    180915260\n",
       "Name: length, dtype: int32"
      ]
     },
     "execution_count": 9,
     "metadata": {},
     "output_type": "execute_result"
    }
   ],
   "source": [
    "chromsizes = c.chromsizes\n",
    "chromsizes.head()"
   ]
  },
  {
   "cell_type": "code",
   "execution_count": 10,
   "metadata": {},
   "outputs": [
    {
     "data": {
      "text/html": [
       "<div>\n",
       "<style scoped>\n",
       "    .dataframe tbody tr th:only-of-type {\n",
       "        vertical-align: middle;\n",
       "    }\n",
       "\n",
       "    .dataframe tbody tr th {\n",
       "        vertical-align: top;\n",
       "    }\n",
       "\n",
       "    .dataframe thead th {\n",
       "        text-align: right;\n",
       "    }\n",
       "</style>\n",
       "<table border=\"1\" class=\"dataframe\">\n",
       "  <thead>\n",
       "    <tr style=\"text-align: right;\">\n",
       "      <th></th>\n",
       "      <th>chrom</th>\n",
       "      <th>start</th>\n",
       "      <th>end</th>\n",
       "      <th>mid</th>\n",
       "    </tr>\n",
       "  </thead>\n",
       "  <tbody>\n",
       "    <tr>\n",
       "      <th>0</th>\n",
       "      <td>chr1</td>\n",
       "      <td>121500000</td>\n",
       "      <td>128900000</td>\n",
       "      <td>125200000</td>\n",
       "    </tr>\n",
       "    <tr>\n",
       "      <th>1</th>\n",
       "      <td>chr10</td>\n",
       "      <td>38000000</td>\n",
       "      <td>42300000</td>\n",
       "      <td>40150000</td>\n",
       "    </tr>\n",
       "    <tr>\n",
       "      <th>2</th>\n",
       "      <td>chr11</td>\n",
       "      <td>51600000</td>\n",
       "      <td>55700000</td>\n",
       "      <td>53650000</td>\n",
       "    </tr>\n",
       "    <tr>\n",
       "      <th>3</th>\n",
       "      <td>chr12</td>\n",
       "      <td>33300000</td>\n",
       "      <td>38200000</td>\n",
       "      <td>35750000</td>\n",
       "    </tr>\n",
       "    <tr>\n",
       "      <th>4</th>\n",
       "      <td>chr13</td>\n",
       "      <td>16300000</td>\n",
       "      <td>19500000</td>\n",
       "      <td>17900000</td>\n",
       "    </tr>\n",
       "  </tbody>\n",
       "</table>\n",
       "</div>"
      ],
      "text/plain": [
       "   chrom      start        end        mid\n",
       "0   chr1  121500000  128900000  125200000\n",
       "1  chr10   38000000   42300000   40150000\n",
       "2  chr11   51600000   55700000   53650000\n",
       "3  chr12   33300000   38200000   35750000\n",
       "4  chr13   16300000   19500000   17900000"
      ]
     },
     "execution_count": 10,
     "metadata": {},
     "output_type": "execute_result"
    }
   ],
   "source": [
    "midpoints = bioframe.fetch_centromeres('hg19')\n",
    "midpoints.head()"
   ]
  },
  {
   "cell_type": "code",
   "execution_count": 11,
   "metadata": {},
   "outputs": [
    {
     "data": {
      "text/html": [
       "<div>\n",
       "<style scoped>\n",
       "    .dataframe tbody tr th:only-of-type {\n",
       "        vertical-align: middle;\n",
       "    }\n",
       "\n",
       "    .dataframe tbody tr th {\n",
       "        vertical-align: top;\n",
       "    }\n",
       "\n",
       "    .dataframe thead th {\n",
       "        text-align: right;\n",
       "    }\n",
       "</style>\n",
       "<table border=\"1\" class=\"dataframe\">\n",
       "  <thead>\n",
       "    <tr style=\"text-align: right;\">\n",
       "      <th></th>\n",
       "      <th>chrom</th>\n",
       "      <th>start</th>\n",
       "      <th>end</th>\n",
       "      <th>name</th>\n",
       "    </tr>\n",
       "  </thead>\n",
       "  <tbody>\n",
       "    <tr>\n",
       "      <th>0</th>\n",
       "      <td>chr1</td>\n",
       "      <td>0</td>\n",
       "      <td>125200000</td>\n",
       "      <td>chr1p</td>\n",
       "    </tr>\n",
       "    <tr>\n",
       "      <th>1</th>\n",
       "      <td>chr1</td>\n",
       "      <td>125200000</td>\n",
       "      <td>249250621</td>\n",
       "      <td>chr1q</td>\n",
       "    </tr>\n",
       "    <tr>\n",
       "      <th>2</th>\n",
       "      <td>chr10</td>\n",
       "      <td>0</td>\n",
       "      <td>40150000</td>\n",
       "      <td>chr10p</td>\n",
       "    </tr>\n",
       "    <tr>\n",
       "      <th>3</th>\n",
       "      <td>chr10</td>\n",
       "      <td>40150000</td>\n",
       "      <td>135534747</td>\n",
       "      <td>chr10q</td>\n",
       "    </tr>\n",
       "    <tr>\n",
       "      <th>4</th>\n",
       "      <td>chr11</td>\n",
       "      <td>0</td>\n",
       "      <td>53650000</td>\n",
       "      <td>chr11p</td>\n",
       "    </tr>\n",
       "  </tbody>\n",
       "</table>\n",
       "</div>"
      ],
      "text/plain": [
       "   chrom      start        end    name\n",
       "0   chr1          0  125200000   chr1p\n",
       "1   chr1  125200000  249250621   chr1q\n",
       "2  chr10          0   40150000  chr10p\n",
       "3  chr10   40150000  135534747  chr10q\n",
       "4  chr11          0   53650000  chr11p"
      ]
     },
     "execution_count": 11,
     "metadata": {},
     "output_type": "execute_result"
    }
   ],
   "source": [
    "chromarms = bioframe.genomeops.make_chromarms(chromsizes, midpoints)\n",
    "chromarms.head()"
   ]
  },
  {
   "cell_type": "code",
   "execution_count": 12,
   "metadata": {},
   "outputs": [],
   "source": [
    "regions = [(row[0], row[1], row[2]) for index, row in chromarms.iterrows()]"
   ]
  },
  {
   "cell_type": "code",
   "execution_count": 13,
   "metadata": {},
   "outputs": [],
   "source": [
    "cis_val, cis_eig = eigdecomp.cooler_cis_eig(\n",
    "                c, \n",
    "                gc_dict['hg19'], \n",
    "                regions = regions,\n",
    "                n_eigs=3, \n",
    "                balance=True,\n",
    "                ignore_diags = 10, clip_percentile=99)"
   ]
  },
  {
   "cell_type": "code",
   "execution_count": 14,
   "metadata": {},
   "outputs": [],
   "source": [
    "def get_corr(masked_track):\n",
    "    for chrom in masked_track.chrom.unique():\n",
    "        mask = masked_track.chrom==chrom\n",
    "        corrs = [stats.pearsonr(masked_track[mask]['E' + str(i)].values, masked_track[mask]['GC'].values)[0] for i in range(1, 4)]\n",
    "\n",
    "        print(chrom, corrs)"
   ]
  },
  {
   "cell_type": "code",
   "execution_count": 15,
   "metadata": {},
   "outputs": [
    {
     "name": "stdout",
     "output_type": "stream",
     "text": [
      "chr1 [0.5863703574301379, 0.20887934945468156, 0.34580262108669013]\n",
      "chr2 [0.5227885507057974, 0.4551965110026525, -0.0783792109064218]\n",
      "chr3 [0.6595880957023125, 0.2130503717819337, 0.28787300730292026]\n",
      "chr4 [0.46740178228559115, 0.2244744174949804, 0.2809897661183371]\n",
      "chr5 [0.5571833790748342, 0.31622525665946244, 0.1911232155095279]\n",
      "chr6 [0.49557810389923057, 0.05876008435860212, 0.1609490857150486]\n",
      "chr7 [0.5825768374380789, 0.34063975457090184, 0.21188170534880274]\n",
      "chr8 [0.4964213765257928, 0.24103832097553146, -0.0003675098898783627]\n",
      "chr9 [0.5802290555210841, 0.3334249461854339, 0.01345673304150112]\n",
      "chr10 [0.35387701337885524, 0.5503145529236867, 0.2404595611821298]\n",
      "chr11 [0.6738445181010351, 0.15063583714038242, 0.24329629143672404]\n",
      "chr12 [0.6286884522776208, 0.311789800719787, 0.24310296268679168]\n",
      "chr13 [0.5279944568512068, -0.07764133701325909, 0.41875427010796284]\n",
      "chr14 [0.6151079566283828, 0.10570977826364088, 0.15410615954533236]\n",
      "chr15 [0.41361760832591693, 0.07481159212246655, 0.2028362347064674]\n",
      "chr16 [0.6148648302459995, 0.13441756016444842, 0.26612646550908153]\n",
      "chr17 [0.542138327007189, -0.002062878524477724, 0.2375538997090913]\n",
      "chr18 [0.4840633244322237, 0.23656398748921692, 0.07292359269236375]\n",
      "chr19 [0.7235407914999368, 0.09029369514814803, 0.21925626640924983]\n",
      "chr20 [0.4060547051071776, 0.3869075826881386, -0.15711870801838126]\n",
      "chr21 [0.6509204636848682, 0.3693770628568307, 0.011774626830750914]\n",
      "chr22 [0.2963902928399771, 0.1656094852773527, 0.08870576685640882]\n",
      "chrX [0.581667867200948, 0.23066151607215413, 0.18648179035612877]\n",
      "chrY [0.14591342403496677, 0.0810184285335614, -0.12622321669127334]\n"
     ]
    }
   ],
   "source": [
    "masked_track = cis_eig[~cis_eig['E1'].isna()]\n",
    "get_corr(masked_track)"
   ]
  },
  {
   "cell_type": "code",
   "execution_count": 16,
   "metadata": {},
   "outputs": [],
   "source": [
    "cis_val2, cis_eig2 = eigdecomp.cooler_cis_eig(\n",
    "                c, \n",
    "                gc_dict['hg19'], \n",
    "                regions = [(chrom, 0, c.chromsizes[chrom]) for chrom in c.chromnames],\n",
    "                n_eigs=3, \n",
    "                balance=True,\n",
    "                ignore_diags = 10, clip_percentile=99)"
   ]
  },
  {
   "cell_type": "code",
   "execution_count": 17,
   "metadata": {},
   "outputs": [
    {
     "name": "stdout",
     "output_type": "stream",
     "text": [
      "chr1 [0.6466363493157578, 0.38374587337614563, 0.11003335083158723]\n",
      "chr2 [0.5154302713967023, 0.5458181937156704, 0.0891043096925276]\n",
      "chr3 [0.6874865870465964, 0.3357997703620758, -0.08791164380217142]\n",
      "chr4 [0.5290036516373862, 0.17653233608452418, 0.12231018479864554]\n",
      "chr5 [0.5568835958214121, 0.2280513510700204, 0.414620891295274]\n",
      "chr6 [0.5938188519175683, -0.15263773657558408, 0.2423993115466446]\n",
      "chr7 [0.5535198432450478, 0.5144218092437028, 0.11717512860560281]\n",
      "chr8 [0.4642529838825884, 0.39617454028371946, 0.4064741556569348]\n",
      "chr9 [0.6523419371690511, -0.10186710693551174, 0.3351599864917103]\n",
      "chr10 [0.3372668426631099, 0.49034890045921886, 0.09580035720489163]\n",
      "chr11 [0.6898128789791588, 0.13740935917690514, -0.09486585485479743]\n",
      "chr12 [0.6374526453637082, 0.42224103057644297, 0.08715353739690049]\n",
      "chr13 [0.5282201488990541, -0.07758280428296536, 0.4182138454395834]\n",
      "chr14 [0.6151305440980643, 0.1057649103387711, 0.15411605830432595]\n",
      "chr15 [0.41359915476244113, 0.07380845354994801, 0.20364000803813884]\n",
      "chr16 [0.6179845747102448, 0.2266950458856165, 0.04521919458944739]\n",
      "chr17 [0.5419395119674236, 0.1319971559687296, 0.16847142831086928]\n",
      "chr18 [0.5231127854970973, 0.2530805847417028, 0.055186681071724794]\n",
      "chr19 [0.7184734842826974, 0.14725761072944848, 0.11827529207512545]\n",
      "chr20 [0.483422689806148, 0.4867065779411575, 0.14736947287500152]\n",
      "chr21 [0.6444963539328539, 0.36547084421355613, -0.006150158493985775]\n",
      "chr22 [0.29614276106477444, 0.16590579681958054, 0.08858959866753391]\n",
      "chrX [0.5881445378067651, -0.06665992510791034, 0.38979603416104924]\n",
      "chrY [0.29054914716169017, 0.35597769898762127, 0.04735698547268402]\n"
     ]
    }
   ],
   "source": [
    "masked_track2 = cis_eig2[~cis_eig2['E1'].isna()]\n",
    "get_corr(masked_track2)"
   ]
  },
  {
   "cell_type": "code",
   "execution_count": 18,
   "metadata": {},
   "outputs": [
    {
     "data": {
      "text/plain": [
       "[<matplotlib.lines.Line2D at 0x7f68853c5150>]"
      ]
     },
     "execution_count": 18,
     "metadata": {},
     "output_type": "execute_result"
    },
    {
     "data": {
      "image/png": "[encoded data removed]",
      "text/plain": [
       "<Figure size 1440x216 with 1 Axes>"
      ]
     },
     "metadata": {
      "needs_background": "light"
     },
     "output_type": "display_data"
    }
   ],
   "source": [
    "plt.figure(figsize=(20, 3))\n",
    "chrom = 'chr19'\n",
    "y1 = masked_track[masked_track.chrom == chrom]['E1'].values\n",
    "plt.plot(y1)\n",
    "y2 = masked_track2[masked_track2.chrom == chrom]['E1'].values\n",
    "plt.plot(y2)"
   ]
  },
  {
   "cell_type": "code",
   "execution_count": 19,
   "metadata": {},
   "outputs": [
    {
     "name": "stderr",
     "output_type": "stream",
     "text": [
      "Fitting a model with 34 free scalar parameters with only 26 data points will result in a degenerate solution.\n",
      "Fitting a model with 47 free scalar parameters with only 26 data points will result in a degenerate solution.\n"
     ]
    },
    {
     "name": "stdout",
     "output_type": "stream",
     "text": [
      "[ 2. -2.  0. ...  4. -3.  0.]\n"
     ]
    }
   ],
   "source": [
    "hmm_track = HMMC.auto_analyze(cis_eig)"
   ]
  },
  {
   "cell_type": "code",
   "execution_count": 20,
   "metadata": {},
   "outputs": [
    {
     "data": {
      "text/html": [
       "<div>\n",
       "<style scoped>\n",
       "    .dataframe tbody tr th:only-of-type {\n",
       "        vertical-align: middle;\n",
       "    }\n",
       "\n",
       "    .dataframe tbody tr th {\n",
       "        vertical-align: top;\n",
       "    }\n",
       "\n",
       "    .dataframe thead th {\n",
       "        text-align: right;\n",
       "    }\n",
       "</style>\n",
       "<table border=\"1\" class=\"dataframe\">\n",
       "  <thead>\n",
       "    <tr style=\"text-align: right;\">\n",
       "      <th></th>\n",
       "      <th>chrom</th>\n",
       "      <th>start</th>\n",
       "      <th>end</th>\n",
       "      <th>weight</th>\n",
       "      <th>GC</th>\n",
       "      <th>E1</th>\n",
       "      <th>E2</th>\n",
       "      <th>E3</th>\n",
       "      <th>binary</th>\n",
       "      <th>HMM2</th>\n",
       "      <th>HMM3</th>\n",
       "      <th>HMM4</th>\n",
       "      <th>HMM5</th>\n",
       "      <th>HMM6</th>\n",
       "      <th>HMM5_2</th>\n",
       "    </tr>\n",
       "  </thead>\n",
       "  <tbody>\n",
       "    <tr>\n",
       "      <th>0</th>\n",
       "      <td>chr1</td>\n",
       "      <td>0</td>\n",
       "      <td>50000</td>\n",
       "      <td>NaN</td>\n",
       "      <td>0.484250</td>\n",
       "      <td>NaN</td>\n",
       "      <td>NaN</td>\n",
       "      <td>NaN</td>\n",
       "      <td>NaN</td>\n",
       "      <td>NaN</td>\n",
       "      <td>NaN</td>\n",
       "      <td>NaN</td>\n",
       "      <td>NaN</td>\n",
       "      <td>NaN</td>\n",
       "      <td>NaN</td>\n",
       "    </tr>\n",
       "    <tr>\n",
       "      <th>1</th>\n",
       "      <td>chr1</td>\n",
       "      <td>50000</td>\n",
       "      <td>100000</td>\n",
       "      <td>NaN</td>\n",
       "      <td>0.376740</td>\n",
       "      <td>NaN</td>\n",
       "      <td>NaN</td>\n",
       "      <td>NaN</td>\n",
       "      <td>NaN</td>\n",
       "      <td>NaN</td>\n",
       "      <td>NaN</td>\n",
       "      <td>NaN</td>\n",
       "      <td>NaN</td>\n",
       "      <td>NaN</td>\n",
       "      <td>NaN</td>\n",
       "    </tr>\n",
       "    <tr>\n",
       "      <th>2</th>\n",
       "      <td>chr1</td>\n",
       "      <td>100000</td>\n",
       "      <td>150000</td>\n",
       "      <td>NaN</td>\n",
       "      <td>0.429960</td>\n",
       "      <td>NaN</td>\n",
       "      <td>NaN</td>\n",
       "      <td>NaN</td>\n",
       "      <td>NaN</td>\n",
       "      <td>NaN</td>\n",
       "      <td>NaN</td>\n",
       "      <td>NaN</td>\n",
       "      <td>NaN</td>\n",
       "      <td>NaN</td>\n",
       "      <td>NaN</td>\n",
       "    </tr>\n",
       "    <tr>\n",
       "      <th>3</th>\n",
       "      <td>chr1</td>\n",
       "      <td>150000</td>\n",
       "      <td>200000</td>\n",
       "      <td>NaN</td>\n",
       "      <td>0.447314</td>\n",
       "      <td>NaN</td>\n",
       "      <td>NaN</td>\n",
       "      <td>NaN</td>\n",
       "      <td>NaN</td>\n",
       "      <td>NaN</td>\n",
       "      <td>NaN</td>\n",
       "      <td>NaN</td>\n",
       "      <td>NaN</td>\n",
       "      <td>NaN</td>\n",
       "      <td>NaN</td>\n",
       "    </tr>\n",
       "    <tr>\n",
       "      <th>4</th>\n",
       "      <td>chr1</td>\n",
       "      <td>200000</td>\n",
       "      <td>250000</td>\n",
       "      <td>NaN</td>\n",
       "      <td>0.410796</td>\n",
       "      <td>NaN</td>\n",
       "      <td>NaN</td>\n",
       "      <td>NaN</td>\n",
       "      <td>NaN</td>\n",
       "      <td>NaN</td>\n",
       "      <td>NaN</td>\n",
       "      <td>NaN</td>\n",
       "      <td>NaN</td>\n",
       "      <td>NaN</td>\n",
       "      <td>NaN</td>\n",
       "    </tr>\n",
       "    <tr>\n",
       "      <th>...</th>\n",
       "      <td>...</td>\n",
       "      <td>...</td>\n",
       "      <td>...</td>\n",
       "      <td>...</td>\n",
       "      <td>...</td>\n",
       "      <td>...</td>\n",
       "      <td>...</td>\n",
       "      <td>...</td>\n",
       "      <td>...</td>\n",
       "      <td>...</td>\n",
       "      <td>...</td>\n",
       "      <td>...</td>\n",
       "      <td>...</td>\n",
       "      <td>...</td>\n",
       "      <td>...</td>\n",
       "    </tr>\n",
       "    <tr>\n",
       "      <th>61923</th>\n",
       "      <td>chrY</td>\n",
       "      <td>59200000</td>\n",
       "      <td>59250000</td>\n",
       "      <td>NaN</td>\n",
       "      <td>0.388820</td>\n",
       "      <td>NaN</td>\n",
       "      <td>NaN</td>\n",
       "      <td>NaN</td>\n",
       "      <td>NaN</td>\n",
       "      <td>NaN</td>\n",
       "      <td>NaN</td>\n",
       "      <td>NaN</td>\n",
       "      <td>NaN</td>\n",
       "      <td>NaN</td>\n",
       "      <td>NaN</td>\n",
       "    </tr>\n",
       "    <tr>\n",
       "      <th>61924</th>\n",
       "      <td>chrY</td>\n",
       "      <td>59250000</td>\n",
       "      <td>59300000</td>\n",
       "      <td>NaN</td>\n",
       "      <td>0.398220</td>\n",
       "      <td>NaN</td>\n",
       "      <td>NaN</td>\n",
       "      <td>NaN</td>\n",
       "      <td>NaN</td>\n",
       "      <td>NaN</td>\n",
       "      <td>NaN</td>\n",
       "      <td>NaN</td>\n",
       "      <td>NaN</td>\n",
       "      <td>NaN</td>\n",
       "      <td>NaN</td>\n",
       "    </tr>\n",
       "    <tr>\n",
       "      <th>61925</th>\n",
       "      <td>chrY</td>\n",
       "      <td>59300000</td>\n",
       "      <td>59350000</td>\n",
       "      <td>NaN</td>\n",
       "      <td>0.479240</td>\n",
       "      <td>NaN</td>\n",
       "      <td>NaN</td>\n",
       "      <td>NaN</td>\n",
       "      <td>NaN</td>\n",
       "      <td>NaN</td>\n",
       "      <td>NaN</td>\n",
       "      <td>NaN</td>\n",
       "      <td>NaN</td>\n",
       "      <td>NaN</td>\n",
       "      <td>NaN</td>\n",
       "    </tr>\n",
       "    <tr>\n",
       "      <th>61926</th>\n",
       "      <td>chrY</td>\n",
       "      <td>59350000</td>\n",
       "      <td>59373566</td>\n",
       "      <td>NaN</td>\n",
       "      <td>0.563615</td>\n",
       "      <td>NaN</td>\n",
       "      <td>NaN</td>\n",
       "      <td>NaN</td>\n",
       "      <td>NaN</td>\n",
       "      <td>NaN</td>\n",
       "      <td>NaN</td>\n",
       "      <td>NaN</td>\n",
       "      <td>NaN</td>\n",
       "      <td>NaN</td>\n",
       "      <td>NaN</td>\n",
       "    </tr>\n",
       "    <tr>\n",
       "      <th>61927</th>\n",
       "      <td>chrM</td>\n",
       "      <td>0</td>\n",
       "      <td>16571</td>\n",
       "      <td>0.000135</td>\n",
       "      <td>0.444874</td>\n",
       "      <td>NaN</td>\n",
       "      <td>NaN</td>\n",
       "      <td>NaN</td>\n",
       "      <td>NaN</td>\n",
       "      <td>NaN</td>\n",
       "      <td>NaN</td>\n",
       "      <td>NaN</td>\n",
       "      <td>NaN</td>\n",
       "      <td>NaN</td>\n",
       "      <td>NaN</td>\n",
       "    </tr>\n",
       "  </tbody>\n",
       "</table>\n",
       "<p>61928 rows × 15 columns</p>\n",
       "</div>"
      ],
      "text/plain": [
       "      chrom     start       end    weight        GC  E1  E2  E3  binary  HMM2  \\\n",
       "0      chr1         0     50000       NaN  0.484250 NaN NaN NaN     NaN   NaN   \n",
       "1      chr1     50000    100000       NaN  0.376740 NaN NaN NaN     NaN   NaN   \n",
       "2      chr1    100000    150000       NaN  0.429960 NaN NaN NaN     NaN   NaN   \n",
       "3      chr1    150000    200000       NaN  0.447314 NaN NaN NaN     NaN   NaN   \n",
       "4      chr1    200000    250000       NaN  0.410796 NaN NaN NaN     NaN   NaN   \n",
       "...     ...       ...       ...       ...       ...  ..  ..  ..     ...   ...   \n",
       "61923  chrY  59200000  59250000       NaN  0.388820 NaN NaN NaN     NaN   NaN   \n",
       "61924  chrY  59250000  59300000       NaN  0.398220 NaN NaN NaN     NaN   NaN   \n",
       "61925  chrY  59300000  59350000       NaN  0.479240 NaN NaN NaN     NaN   NaN   \n",
       "61926  chrY  59350000  59373566       NaN  0.563615 NaN NaN NaN     NaN   NaN   \n",
       "61927  chrM         0     16571  0.000135  0.444874 NaN NaN NaN     NaN   NaN   \n",
       "\n",
       "       HMM3  HMM4  HMM5  HMM6  HMM5_2  \n",
       "0       NaN   NaN   NaN   NaN     NaN  \n",
       "1       NaN   NaN   NaN   NaN     NaN  \n",
       "2       NaN   NaN   NaN   NaN     NaN  \n",
       "3       NaN   NaN   NaN   NaN     NaN  \n",
       "4       NaN   NaN   NaN   NaN     NaN  \n",
       "...     ...   ...   ...   ...     ...  \n",
       "61923   NaN   NaN   NaN   NaN     NaN  \n",
       "61924   NaN   NaN   NaN   NaN     NaN  \n",
       "61925   NaN   NaN   NaN   NaN     NaN  \n",
       "61926   NaN   NaN   NaN   NaN     NaN  \n",
       "61927   NaN   NaN   NaN   NaN     NaN  \n",
       "\n",
       "[61928 rows x 15 columns]"
      ]
     },
     "execution_count": 20,
     "metadata": {},
     "output_type": "execute_result"
    }
   ],
   "source": [
    "hmm_track"
   ]
  },
  {
   "cell_type": "code",
   "execution_count": 37,
   "metadata": {},
   "outputs": [
    {
     "data": {
      "text/plain": [
       "[<matplotlib.lines.Line2D at 0x7f67f3a07790>]"
      ]
     },
     "execution_count": 37,
     "metadata": {},
     "output_type": "execute_result"
    },
    {
     "data": {
      "image/png": "[encoded data removed]",
      "text/plain": [
       "<Figure size 1440x216 with 1 Axes>"
      ]
     },
     "metadata": {
      "needs_background": "light"
     },
     "output_type": "display_data"
    }
   ],
   "source": [
    "plt.figure(figsize=(20, 3))\n",
    "chrom = 'chr19'\n",
    "mask = (~hmm_track['E1'].isna()) & (hmm_track.chrom == chrom)\n",
    "y1 = hmm_track[mask]['E1'].values\n",
    "plt.plot(y1)\n",
    "y2 = hmm_track[mask]['HMM3'].values  -1\n",
    "plt.plot(y2)"
   ]
  },
  {
   "cell_type": "code",
   "execution_count": null,
   "metadata": {},
   "outputs": [],
   "source": []
  }
 ],
 "metadata": {
  "kernelspec": {
   "display_name": "Python 3",
   "language": "python",
   "name": "python3"
  },
  "language_info": {
   "codemirror_mode": {
    "name": "ipython",
    "version": 3
   },
   "file_extension": ".py",
   "mimetype": "text/x-python",
   "name": "python",
   "nbconvert_exporter": "python",
   "pygments_lexer": "ipython3",
   "version": "3.7.9"
  }
 },
 "nbformat": 4,
 "nbformat_minor": 4
}
