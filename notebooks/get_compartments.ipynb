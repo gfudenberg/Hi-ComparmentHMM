{
 "cells": [
  {
   "cell_type": "code",
   "execution_count": 1,
   "metadata": {},
   "outputs": [],
   "source": [
    "import cooltools\n",
    "import bioframe\n",
    "import cooler\n",
    "import pandas as pd\n",
    "from HMMC import HMMC, fileprocessing\n",
    "from importlib import reload  \n",
    "import numpy as np\n",
    "from cooltools import eigdecomp\n",
    "from scipy import stats\n",
    "import matplotlib.pyplot as plt\n",
    "from natsort import natsorted"
   ]
  },
  {
   "cell_type": "code",
   "execution_count": 2,
   "metadata": {},
   "outputs": [],
   "source": [
    "cooldir = '/pollard/data/chromatin_organization/rao2014/distiller-0.3.1_hg19/results'\n",
    "fasta_file='/pollard/data/vertebrate_genomes/human/hg19/hg19/hg19.fa'"
   ]
  },
  {
   "cell_type": "code",
   "execution_count": 3,
   "metadata": {},
   "outputs": [],
   "source": [
    "cools = fileprocessing.get_files(cooldir)"
   ]
  },
  {
   "cell_type": "code",
   "execution_count": 4,
   "metadata": {},
   "outputs": [],
   "source": [
    "df = fileprocessing.cools_df(cools, resolution = 100000)"
   ]
  },
  {
   "cell_type": "code",
   "execution_count": 5,
   "metadata": {},
   "outputs": [
    {
     "data": {
      "text/html": [
       "<div>\n",
       "<style scoped>\n",
       "    .dataframe tbody tr th:only-of-type {\n",
       "        vertical-align: middle;\n",
       "    }\n",
       "\n",
       "    .dataframe tbody tr th {\n",
       "        vertical-align: top;\n",
       "    }\n",
       "\n",
       "    .dataframe thead th {\n",
       "        text-align: right;\n",
       "    }\n",
       "</style>\n",
       "<table border=\"1\" class=\"dataframe\">\n",
       "  <thead>\n",
       "    <tr style=\"text-align: right;\">\n",
       "      <th></th>\n",
       "      <th>cell_line</th>\n",
       "      <th>assembly</th>\n",
       "      <th>path</th>\n",
       "      <th>cooler</th>\n",
       "    </tr>\n",
       "  </thead>\n",
       "  <tbody>\n",
       "    <tr>\n",
       "      <th>0</th>\n",
       "      <td>NHEK</td>\n",
       "      <td>hg19</td>\n",
       "      <td>/pollard/data/chromatin_organization/rao2014/d...</td>\n",
       "      <td>&lt;Cooler \"NHEK_inSitu_MboI.hg19.mapq_30.1000.mc...</td>\n",
       "    </tr>\n",
       "    <tr>\n",
       "      <th>1</th>\n",
       "      <td>IMR90</td>\n",
       "      <td>hg19</td>\n",
       "      <td>/pollard/data/chromatin_organization/rao2014/d...</td>\n",
       "      <td>&lt;Cooler \"IMR90_inSitu_MboI.hg19.mapq_30.1000.m...</td>\n",
       "    </tr>\n",
       "    <tr>\n",
       "      <th>2</th>\n",
       "      <td>K562</td>\n",
       "      <td>hg19</td>\n",
       "      <td>/pollard/data/chromatin_organization/rao2014/d...</td>\n",
       "      <td>&lt;Cooler \"K562_inSitu_MboI.hg19.mapq_30.1000.mc...</td>\n",
       "    </tr>\n",
       "    <tr>\n",
       "      <th>3</th>\n",
       "      <td>HUVEC</td>\n",
       "      <td>hg19</td>\n",
       "      <td>/pollard/data/chromatin_organization/rao2014/d...</td>\n",
       "      <td>&lt;Cooler \"HUVEC_inSitu_MboI.hg19.mapq_30.1000.m...</td>\n",
       "    </tr>\n",
       "    <tr>\n",
       "      <th>4</th>\n",
       "      <td>HMEC</td>\n",
       "      <td>hg19</td>\n",
       "      <td>/pollard/data/chromatin_organization/rao2014/d...</td>\n",
       "      <td>&lt;Cooler \"HMEC_inSitu_MboI.hg19.mapq_30.1000.mc...</td>\n",
       "    </tr>\n",
       "    <tr>\n",
       "      <th>5</th>\n",
       "      <td>KBM7</td>\n",
       "      <td>hg19</td>\n",
       "      <td>/pollard/data/chromatin_organization/rao2014/d...</td>\n",
       "      <td>&lt;Cooler \"KBM7_inSitu_MboI.hg19.mapq_30.1000.mc...</td>\n",
       "    </tr>\n",
       "    <tr>\n",
       "      <th>6</th>\n",
       "      <td>GM12878</td>\n",
       "      <td>hg19</td>\n",
       "      <td>/pollard/data/chromatin_organization/rao2014/d...</td>\n",
       "      <td>&lt;Cooler \"GM12878_inSitu_MboI.hg19.mapq_30.1000...</td>\n",
       "    </tr>\n",
       "  </tbody>\n",
       "</table>\n",
       "</div>"
      ],
      "text/plain": [
       "  cell_line assembly                                               path  \\\n",
       "0      NHEK     hg19  /pollard/data/chromatin_organization/rao2014/d...   \n",
       "1     IMR90     hg19  /pollard/data/chromatin_organization/rao2014/d...   \n",
       "2      K562     hg19  /pollard/data/chromatin_organization/rao2014/d...   \n",
       "3     HUVEC     hg19  /pollard/data/chromatin_organization/rao2014/d...   \n",
       "4      HMEC     hg19  /pollard/data/chromatin_organization/rao2014/d...   \n",
       "5      KBM7     hg19  /pollard/data/chromatin_organization/rao2014/d...   \n",
       "6   GM12878     hg19  /pollard/data/chromatin_organization/rao2014/d...   \n",
       "\n",
       "                                              cooler  \n",
       "0  <Cooler \"NHEK_inSitu_MboI.hg19.mapq_30.1000.mc...  \n",
       "1  <Cooler \"IMR90_inSitu_MboI.hg19.mapq_30.1000.m...  \n",
       "2  <Cooler \"K562_inSitu_MboI.hg19.mapq_30.1000.mc...  \n",
       "3  <Cooler \"HUVEC_inSitu_MboI.hg19.mapq_30.1000.m...  \n",
       "4  <Cooler \"HMEC_inSitu_MboI.hg19.mapq_30.1000.mc...  \n",
       "5  <Cooler \"KBM7_inSitu_MboI.hg19.mapq_30.1000.mc...  \n",
       "6  <Cooler \"GM12878_inSitu_MboI.hg19.mapq_30.1000...  "
      ]
     },
     "execution_count": 5,
     "metadata": {},
     "output_type": "execute_result"
    }
   ],
   "source": [
    "df"
   ]
  },
  {
   "cell_type": "code",
   "execution_count": 6,
   "metadata": {},
   "outputs": [],
   "source": [
    "gc_dict = fileprocessing.get_gc(df, fasta_file)"
   ]
  },
  {
   "cell_type": "code",
   "execution_count": 7,
   "metadata": {},
   "outputs": [
    {
     "data": {
      "text/html": [
       "<div>\n",
       "<style scoped>\n",
       "    .dataframe tbody tr th:only-of-type {\n",
       "        vertical-align: middle;\n",
       "    }\n",
       "\n",
       "    .dataframe tbody tr th {\n",
       "        vertical-align: top;\n",
       "    }\n",
       "\n",
       "    .dataframe thead th {\n",
       "        text-align: right;\n",
       "    }\n",
       "</style>\n",
       "<table border=\"1\" class=\"dataframe\">\n",
       "  <thead>\n",
       "    <tr style=\"text-align: right;\">\n",
       "      <th></th>\n",
       "      <th>chrom</th>\n",
       "      <th>start</th>\n",
       "      <th>end</th>\n",
       "      <th>weight</th>\n",
       "      <th>GC</th>\n",
       "    </tr>\n",
       "  </thead>\n",
       "  <tbody>\n",
       "    <tr>\n",
       "      <th>0</th>\n",
       "      <td>chr1</td>\n",
       "      <td>0</td>\n",
       "      <td>100000</td>\n",
       "      <td>NaN</td>\n",
       "      <td>0.424522</td>\n",
       "    </tr>\n",
       "    <tr>\n",
       "      <th>1</th>\n",
       "      <td>chr1</td>\n",
       "      <td>100000</td>\n",
       "      <td>200000</td>\n",
       "      <td>NaN</td>\n",
       "      <td>0.436106</td>\n",
       "    </tr>\n",
       "    <tr>\n",
       "      <th>2</th>\n",
       "      <td>chr1</td>\n",
       "      <td>200000</td>\n",
       "      <td>300000</td>\n",
       "      <td>NaN</td>\n",
       "      <td>0.391445</td>\n",
       "    </tr>\n",
       "    <tr>\n",
       "      <th>3</th>\n",
       "      <td>chr1</td>\n",
       "      <td>300000</td>\n",
       "      <td>400000</td>\n",
       "      <td>NaN</td>\n",
       "      <td>0.402049</td>\n",
       "    </tr>\n",
       "    <tr>\n",
       "      <th>4</th>\n",
       "      <td>chr1</td>\n",
       "      <td>400000</td>\n",
       "      <td>500000</td>\n",
       "      <td>NaN</td>\n",
       "      <td>0.453719</td>\n",
       "    </tr>\n",
       "  </tbody>\n",
       "</table>\n",
       "</div>"
      ],
      "text/plain": [
       "  chrom   start     end  weight        GC\n",
       "0  chr1       0  100000     NaN  0.424522\n",
       "1  chr1  100000  200000     NaN  0.436106\n",
       "2  chr1  200000  300000     NaN  0.391445\n",
       "3  chr1  300000  400000     NaN  0.402049\n",
       "4  chr1  400000  500000     NaN  0.453719"
      ]
     },
     "execution_count": 7,
     "metadata": {},
     "output_type": "execute_result"
    }
   ],
   "source": [
    "gc_dict['hg19'].head()"
   ]
  },
  {
   "cell_type": "code",
   "execution_count": 8,
   "metadata": {},
   "outputs": [],
   "source": [
    "c = df.iloc[6].cooler"
   ]
  },
  {
   "cell_type": "code",
   "execution_count": 9,
   "metadata": {
    "scrolled": true
   },
   "outputs": [
    {
     "data": {
      "text/plain": [
       "name\n",
       "chr1    249250621\n",
       "chr2    243199373\n",
       "chr3    198022430\n",
       "chr4    191154276\n",
       "chr5    180915260\n",
       "Name: length, dtype: int32"
      ]
     },
     "execution_count": 9,
     "metadata": {},
     "output_type": "execute_result"
    }
   ],
   "source": [
    "chromsizes = c.chromsizes\n",
    "chromsizes.head()"
   ]
  },
  {
   "cell_type": "code",
   "execution_count": 10,
   "metadata": {},
   "outputs": [
    {
     "data": {
      "text/html": [
       "<div>\n",
       "<style scoped>\n",
       "    .dataframe tbody tr th:only-of-type {\n",
       "        vertical-align: middle;\n",
       "    }\n",
       "\n",
       "    .dataframe tbody tr th {\n",
       "        vertical-align: top;\n",
       "    }\n",
       "\n",
       "    .dataframe thead th {\n",
       "        text-align: right;\n",
       "    }\n",
       "</style>\n",
       "<table border=\"1\" class=\"dataframe\">\n",
       "  <thead>\n",
       "    <tr style=\"text-align: right;\">\n",
       "      <th></th>\n",
       "      <th>chrom</th>\n",
       "      <th>start</th>\n",
       "      <th>end</th>\n",
       "      <th>mid</th>\n",
       "    </tr>\n",
       "  </thead>\n",
       "  <tbody>\n",
       "    <tr>\n",
       "      <th>0</th>\n",
       "      <td>chr1</td>\n",
       "      <td>121500000</td>\n",
       "      <td>128900000</td>\n",
       "      <td>125200000</td>\n",
       "    </tr>\n",
       "    <tr>\n",
       "      <th>1</th>\n",
       "      <td>chr10</td>\n",
       "      <td>38000000</td>\n",
       "      <td>42300000</td>\n",
       "      <td>40150000</td>\n",
       "    </tr>\n",
       "    <tr>\n",
       "      <th>2</th>\n",
       "      <td>chr11</td>\n",
       "      <td>51600000</td>\n",
       "      <td>55700000</td>\n",
       "      <td>53650000</td>\n",
       "    </tr>\n",
       "    <tr>\n",
       "      <th>3</th>\n",
       "      <td>chr12</td>\n",
       "      <td>33300000</td>\n",
       "      <td>38200000</td>\n",
       "      <td>35750000</td>\n",
       "    </tr>\n",
       "    <tr>\n",
       "      <th>4</th>\n",
       "      <td>chr13</td>\n",
       "      <td>16300000</td>\n",
       "      <td>19500000</td>\n",
       "      <td>17900000</td>\n",
       "    </tr>\n",
       "  </tbody>\n",
       "</table>\n",
       "</div>"
      ],
      "text/plain": [
       "   chrom      start        end        mid\n",
       "0   chr1  121500000  128900000  125200000\n",
       "1  chr10   38000000   42300000   40150000\n",
       "2  chr11   51600000   55700000   53650000\n",
       "3  chr12   33300000   38200000   35750000\n",
       "4  chr13   16300000   19500000   17900000"
      ]
     },
     "execution_count": 10,
     "metadata": {},
     "output_type": "execute_result"
    }
   ],
   "source": [
    "midpoints = bioframe.fetch_centromeres('hg19')\n",
    "midpoints.head()"
   ]
  },
  {
   "cell_type": "code",
   "execution_count": 11,
   "metadata": {},
   "outputs": [
    {
     "data": {
      "text/html": [
       "<div>\n",
       "<style scoped>\n",
       "    .dataframe tbody tr th:only-of-type {\n",
       "        vertical-align: middle;\n",
       "    }\n",
       "\n",
       "    .dataframe tbody tr th {\n",
       "        vertical-align: top;\n",
       "    }\n",
       "\n",
       "    .dataframe thead th {\n",
       "        text-align: right;\n",
       "    }\n",
       "</style>\n",
       "<table border=\"1\" class=\"dataframe\">\n",
       "  <thead>\n",
       "    <tr style=\"text-align: right;\">\n",
       "      <th></th>\n",
       "      <th>chrom</th>\n",
       "      <th>start</th>\n",
       "      <th>end</th>\n",
       "      <th>name</th>\n",
       "    </tr>\n",
       "  </thead>\n",
       "  <tbody>\n",
       "    <tr>\n",
       "      <th>0</th>\n",
       "      <td>chr1</td>\n",
       "      <td>0</td>\n",
       "      <td>125200000</td>\n",
       "      <td>chr1p</td>\n",
       "    </tr>\n",
       "    <tr>\n",
       "      <th>1</th>\n",
       "      <td>chr1</td>\n",
       "      <td>125200000</td>\n",
       "      <td>249250621</td>\n",
       "      <td>chr1q</td>\n",
       "    </tr>\n",
       "    <tr>\n",
       "      <th>2</th>\n",
       "      <td>chr10</td>\n",
       "      <td>0</td>\n",
       "      <td>40150000</td>\n",
       "      <td>chr10p</td>\n",
       "    </tr>\n",
       "    <tr>\n",
       "      <th>3</th>\n",
       "      <td>chr10</td>\n",
       "      <td>40150000</td>\n",
       "      <td>135534747</td>\n",
       "      <td>chr10q</td>\n",
       "    </tr>\n",
       "    <tr>\n",
       "      <th>4</th>\n",
       "      <td>chr11</td>\n",
       "      <td>0</td>\n",
       "      <td>53650000</td>\n",
       "      <td>chr11p</td>\n",
       "    </tr>\n",
       "  </tbody>\n",
       "</table>\n",
       "</div>"
      ],
      "text/plain": [
       "   chrom      start        end    name\n",
       "0   chr1          0  125200000   chr1p\n",
       "1   chr1  125200000  249250621   chr1q\n",
       "2  chr10          0   40150000  chr10p\n",
       "3  chr10   40150000  135534747  chr10q\n",
       "4  chr11          0   53650000  chr11p"
      ]
     },
     "execution_count": 11,
     "metadata": {},
     "output_type": "execute_result"
    }
   ],
   "source": [
    "chromarms = bioframe.genomeops.make_chromarms(chromsizes, midpoints)\n",
    "chromarms = chromarms.replace(\"chrMp\", \"chrZ\")\n",
    "chromarms.head()"
   ]
  },
  {
   "cell_type": "code",
   "execution_count": 12,
   "metadata": {},
   "outputs": [],
   "source": [
    "rows = [row for index, row in chromarms.iterrows()]"
   ]
  },
  {
   "cell_type": "code",
   "execution_count": 13,
   "metadata": {},
   "outputs": [],
   "source": [
    "regions = [(chrom, start, end) for chrom, start, end, name in natsorted(rows, key=lambda x: x[-1])]"
   ]
  },
  {
   "cell_type": "code",
   "execution_count": 110,
   "metadata": {},
   "outputs": [],
   "source": [
    "cis_val, cis_eig = eigdecomp.cooler_cis_eig(\n",
    "                c, \n",
    "                gc_dict['hg19'], \n",
    "                regions = regions,\n",
    "                n_eigs=3, \n",
    "                balance=True,\n",
    "                ignore_diags = 3, clip_percentile=99.9)"
   ]
  },
  {
   "cell_type": "code",
   "execution_count": 111,
   "metadata": {},
   "outputs": [],
   "source": [
    "def get_corr(masked_track):\n",
    "    for chrom in masked_track.chrom.unique():\n",
    "        mask = masked_track.chrom==chrom\n",
    "        corrs = [stats.pearsonr(masked_track[mask]['E' + str(i)].values, masked_track[mask]['GC'].values)[0] for i in range(1, 4)]\n",
    "\n",
    "        print(chrom, corrs)"
   ]
  },
  {
   "cell_type": "code",
   "execution_count": 112,
   "metadata": {},
   "outputs": [
    {
     "name": "stdout",
     "output_type": "stream",
     "text": [
      "chr1 [0.6158267853097343, 0.2089151000462116, 0.42481588664173536]\n",
      "chr2 [0.5526741740048625, 0.4638893973760974, -0.07722313578817334]\n",
      "chr3 [0.6902875642027321, 0.16179727250095666, 0.27802218964798386]\n",
      "chr4 [0.4923585486760951, 0.22631324161392133, 0.2737752400533776]\n",
      "chr5 [0.5841092456290846, 0.3208181527116785, 0.21619846566043535]\n",
      "chr6 [0.519995044857919, 0.045961813331201674, 0.14662894856690648]\n",
      "chr7 [0.5933207508712725, 0.3811585915478398, 0.19936721868002752]\n",
      "chr8 [0.518323218835349, -0.031838153671948435, 0.20889858748814075]\n",
      "chr9 [0.6023365826241001, 0.3135271713723565, 0.01763442025560073]\n",
      "chr10 [0.38125158373273726, 0.5577267880112698, 0.2692567441910648]\n",
      "chr11 [0.7024926690780366, 0.1394525689167541, 0.2520339959230624]\n",
      "chr12 [0.6546357587282263, 0.31700162741549365, 0.24307574498841858]\n",
      "chr13 [0.5501283498241001, -0.1137911061661218, 0.4570252647997052]\n",
      "chr14 [0.6458569373009949, 0.0960496950529942, 0.1455270642808905]\n",
      "chr15 [0.4407689948779, 0.042494111613298954, 0.16361023481209278]\n",
      "chr16 [0.6413853119398295, 0.1290206636805283, 0.21743317765026166]\n",
      "chr17 [0.5727727869855309, 0.04031358375779471, 0.19045231854459815]\n",
      "chr18 [0.5117325425052298, 0.25008083457222174, 0.07266228371644487]\n",
      "chr19 [0.7354135954719692, 0.13024825197501028, 0.23406464236611718]\n",
      "chr20 [0.43849303075493395, 0.38891143313068377, 0.03224720294952778]\n",
      "chr21 [0.6620754234615327, 0.37895593706854186, 0.0038664024670563625]\n",
      "chr22 [0.3226087953978181, 0.14965261032721966, 0.08539807805887185]\n",
      "chrX [0.6099523269429983, 0.2439640331740247, 0.1817332071404376]\n",
      "chrY [-0.10839748351836523, 0.021074473543092855, 0.30801987885768134]\n"
     ]
    }
   ],
   "source": [
    "masked_track = cis_eig[~cis_eig['E1'].isna()]\n",
    "get_corr(masked_track)"
   ]
  },
  {
   "cell_type": "code",
   "execution_count": 113,
   "metadata": {},
   "outputs": [],
   "source": [
    "cis_val2, cis_eig2 = eigdecomp.cooler_cis_eig(\n",
    "                c, \n",
    "                gc_dict['hg19'], \n",
    "                regions = [(chrom, 0, c.chromsizes[chrom]) for chrom in c.chromnames],\n",
    "                n_eigs=3, \n",
    "                balance=True,\n",
    "                ignore_diags = 10, clip_percentile=99)"
   ]
  },
  {
   "cell_type": "code",
   "execution_count": 114,
   "metadata": {},
   "outputs": [
    {
     "name": "stdout",
     "output_type": "stream",
     "text": [
      "chr1 [0.682291909292285, 0.3757881606117895, 0.11077305947985217]\n",
      "chr2 [0.5509729754195167, 0.5509775350491507, -0.07982447630683052]\n",
      "chr3 [0.7216331200967571, 0.32976678421756916, -0.09405420440917368]\n",
      "chr4 [0.563006207713852, 0.1646992689739061, 0.11397857662093591]\n",
      "chr5 [0.591213808667439, 0.23040872339889057, 0.4219349694628128]\n",
      "chr6 [0.6223224382349383, -0.14692766234926546, 0.24434370314960194]\n",
      "chr7 [0.5879414135737443, 0.5043182199031587, -0.0614016311490651]\n",
      "chr8 [0.49519119516632343, 0.4404839870857096, 0.3656878761255651]\n",
      "chr9 [0.679232167456713, -0.10609979484695277, 0.34088132931401266]\n",
      "chr10 [0.3706804414908404, 0.4959533403723806, 0.11229488285052945]\n",
      "chr11 [0.721015080364202, 0.11622028877894132, -0.08662605275338289]\n",
      "chr12 [0.6700469601758231, 0.41719749221448804, 0.11015399645746195]\n",
      "chr13 [0.561294522757874, -0.09484182039500878, 0.42707292852616774]\n",
      "chr14 [0.6483203713755835, 0.11277409604614269, 0.14595852202902165]\n",
      "chr15 [0.4460395464808742, 0.07041164715506482, 0.1976544087916572]\n",
      "chr16 [0.6467808748528416, 0.23049158865564034, -0.02421955743902256]\n",
      "chr17 [0.5743541908347319, 0.12028717982279223, 0.15509109676558983]\n",
      "chr18 [0.5618055333001692, 0.19219034897934265, 0.051258314255951]\n",
      "chr19 [0.7371460748596603, 0.19526670420635267, 0.10522523694861703]\n",
      "chr20 [0.5177113782708331, 0.5066982602672414, 0.1666977716430052]\n",
      "chr21 [0.6655093353259693, 0.36980201963717346, -0.005980666809011871]\n",
      "chr22 [0.3269751515814569, 0.18172285636933913, 0.08660892085486485]\n",
      "chrX [0.6153960450253112, 0.08192268687352243, 0.39868555648385756]\n",
      "chrY [0.3137233845866933, 0.3706374717189236, -0.010392445825293155]\n"
     ]
    }
   ],
   "source": [
    "masked_track2 = cis_eig2[~cis_eig2['E1'].isna()]\n",
    "get_corr(masked_track2)"
   ]
  },
  {
   "cell_type": "code",
   "execution_count": 115,
   "metadata": {
    "scrolled": true
   },
   "outputs": [
    {
     "data": {
      "text/plain": [
       "[<matplotlib.lines.Line2D at 0x7f1e6526d110>]"
      ]
     },
     "execution_count": 115,
     "metadata": {},
     "output_type": "execute_result"
    },
    {
     "data": {
      "image/png": "[encoded data removed]",
      "text/plain": [
       "<Figure size 1440x216 with 1 Axes>"
      ]
     },
     "metadata": {
      "needs_background": "light"
     },
     "output_type": "display_data"
    }
   ],
   "source": [
    "plt.figure(figsize=(20, 3))\n",
    "chrom = 'chr19'\n",
    "y1 = masked_track[masked_track.chrom == chrom]['E1'].values\n",
    "plt.plot(y1)\n",
    "y2 = masked_track2[masked_track2.chrom == chrom]['E1'].values\n",
    "plt.plot(y2)"
   ]
  },
  {
   "cell_type": "code",
   "execution_count": 169,
   "metadata": {},
   "outputs": [
    {
     "data": {
      "text/plain": [
       "<module 'HMMC.HMMC' from '/pollard/home/lchumpitaz/Hi-C/testing/HMMC/HMMC.py'>"
      ]
     },
     "execution_count": 169,
     "metadata": {},
     "output_type": "execute_result"
    }
   ],
   "source": [
    "reload(HMMC)"
   ]
  },
  {
   "cell_type": "code",
   "execution_count": 176,
   "metadata": {},
   "outputs": [
    {
     "name": "stderr",
     "output_type": "stream",
     "text": [
      "Fitting a model with 34 free scalar parameters with only 29 data points will result in a degenerate solution.\n",
      "Fitting a model with 47 free scalar parameters with only 29 data points will result in a degenerate solution.\n"
     ]
    },
    {
     "name": "stdout",
     "output_type": "stream",
     "text": [
      "[ 2. -2.  2. ...  2.  0.  0.]\n"
     ]
    }
   ],
   "source": [
    "hmm_track = HMMC.auto_analyze(cis_eig2, regions=None)"
   ]
  },
  {
   "cell_type": "code",
   "execution_count": 177,
   "metadata": {},
   "outputs": [
    {
     "data": {
      "text/html": [
       "<div>\n",
       "<style scoped>\n",
       "    .dataframe tbody tr th:only-of-type {\n",
       "        vertical-align: middle;\n",
       "    }\n",
       "\n",
       "    .dataframe tbody tr th {\n",
       "        vertical-align: top;\n",
       "    }\n",
       "\n",
       "    .dataframe thead th {\n",
       "        text-align: right;\n",
       "    }\n",
       "</style>\n",
       "<table border=\"1\" class=\"dataframe\">\n",
       "  <thead>\n",
       "    <tr style=\"text-align: right;\">\n",
       "      <th></th>\n",
       "      <th>chrom</th>\n",
       "      <th>start</th>\n",
       "      <th>end</th>\n",
       "      <th>weight</th>\n",
       "      <th>GC</th>\n",
       "      <th>E1</th>\n",
       "      <th>E2</th>\n",
       "      <th>E3</th>\n",
       "      <th>binary</th>\n",
       "      <th>HMM2</th>\n",
       "      <th>HMM3</th>\n",
       "      <th>HMM4</th>\n",
       "      <th>HMM5</th>\n",
       "      <th>HMM6</th>\n",
       "      <th>HMM5_2</th>\n",
       "    </tr>\n",
       "  </thead>\n",
       "  <tbody>\n",
       "    <tr>\n",
       "      <th>0</th>\n",
       "      <td>chr1</td>\n",
       "      <td>0</td>\n",
       "      <td>100000</td>\n",
       "      <td>NaN</td>\n",
       "      <td>0.424522</td>\n",
       "      <td>NaN</td>\n",
       "      <td>NaN</td>\n",
       "      <td>NaN</td>\n",
       "      <td>NaN</td>\n",
       "      <td>NaN</td>\n",
       "      <td>NaN</td>\n",
       "      <td>NaN</td>\n",
       "      <td>NaN</td>\n",
       "      <td>NaN</td>\n",
       "      <td>NaN</td>\n",
       "    </tr>\n",
       "    <tr>\n",
       "      <th>1</th>\n",
       "      <td>chr1</td>\n",
       "      <td>100000</td>\n",
       "      <td>200000</td>\n",
       "      <td>NaN</td>\n",
       "      <td>0.436106</td>\n",
       "      <td>NaN</td>\n",
       "      <td>NaN</td>\n",
       "      <td>NaN</td>\n",
       "      <td>NaN</td>\n",
       "      <td>NaN</td>\n",
       "      <td>NaN</td>\n",
       "      <td>NaN</td>\n",
       "      <td>NaN</td>\n",
       "      <td>NaN</td>\n",
       "      <td>NaN</td>\n",
       "    </tr>\n",
       "    <tr>\n",
       "      <th>2</th>\n",
       "      <td>chr1</td>\n",
       "      <td>200000</td>\n",
       "      <td>300000</td>\n",
       "      <td>NaN</td>\n",
       "      <td>0.391445</td>\n",
       "      <td>NaN</td>\n",
       "      <td>NaN</td>\n",
       "      <td>NaN</td>\n",
       "      <td>NaN</td>\n",
       "      <td>NaN</td>\n",
       "      <td>NaN</td>\n",
       "      <td>NaN</td>\n",
       "      <td>NaN</td>\n",
       "      <td>NaN</td>\n",
       "      <td>NaN</td>\n",
       "    </tr>\n",
       "    <tr>\n",
       "      <th>3</th>\n",
       "      <td>chr1</td>\n",
       "      <td>300000</td>\n",
       "      <td>400000</td>\n",
       "      <td>NaN</td>\n",
       "      <td>0.402049</td>\n",
       "      <td>NaN</td>\n",
       "      <td>NaN</td>\n",
       "      <td>NaN</td>\n",
       "      <td>NaN</td>\n",
       "      <td>NaN</td>\n",
       "      <td>NaN</td>\n",
       "      <td>NaN</td>\n",
       "      <td>NaN</td>\n",
       "      <td>NaN</td>\n",
       "      <td>NaN</td>\n",
       "    </tr>\n",
       "    <tr>\n",
       "      <th>4</th>\n",
       "      <td>chr1</td>\n",
       "      <td>400000</td>\n",
       "      <td>500000</td>\n",
       "      <td>NaN</td>\n",
       "      <td>0.453719</td>\n",
       "      <td>NaN</td>\n",
       "      <td>NaN</td>\n",
       "      <td>NaN</td>\n",
       "      <td>NaN</td>\n",
       "      <td>NaN</td>\n",
       "      <td>NaN</td>\n",
       "      <td>NaN</td>\n",
       "      <td>NaN</td>\n",
       "      <td>NaN</td>\n",
       "      <td>NaN</td>\n",
       "    </tr>\n",
       "    <tr>\n",
       "      <th>...</th>\n",
       "      <td>...</td>\n",
       "      <td>...</td>\n",
       "      <td>...</td>\n",
       "      <td>...</td>\n",
       "      <td>...</td>\n",
       "      <td>...</td>\n",
       "      <td>...</td>\n",
       "      <td>...</td>\n",
       "      <td>...</td>\n",
       "      <td>...</td>\n",
       "      <td>...</td>\n",
       "      <td>...</td>\n",
       "      <td>...</td>\n",
       "      <td>...</td>\n",
       "      <td>...</td>\n",
       "    </tr>\n",
       "    <tr>\n",
       "      <th>30966</th>\n",
       "      <td>chrY</td>\n",
       "      <td>59000000</td>\n",
       "      <td>59100000</td>\n",
       "      <td>0.027284</td>\n",
       "      <td>0.380860</td>\n",
       "      <td>-0.742997</td>\n",
       "      <td>0.165271</td>\n",
       "      <td>-0.376632</td>\n",
       "      <td>0.0</td>\n",
       "      <td>1.0</td>\n",
       "      <td>2.0</td>\n",
       "      <td>3.0</td>\n",
       "      <td>4.0</td>\n",
       "      <td>5.0</td>\n",
       "      <td>4.0</td>\n",
       "    </tr>\n",
       "    <tr>\n",
       "      <th>30967</th>\n",
       "      <td>chrY</td>\n",
       "      <td>59100000</td>\n",
       "      <td>59200000</td>\n",
       "      <td>NaN</td>\n",
       "      <td>0.382110</td>\n",
       "      <td>NaN</td>\n",
       "      <td>NaN</td>\n",
       "      <td>NaN</td>\n",
       "      <td>NaN</td>\n",
       "      <td>NaN</td>\n",
       "      <td>NaN</td>\n",
       "      <td>NaN</td>\n",
       "      <td>NaN</td>\n",
       "      <td>NaN</td>\n",
       "      <td>NaN</td>\n",
       "    </tr>\n",
       "    <tr>\n",
       "      <th>30968</th>\n",
       "      <td>chrY</td>\n",
       "      <td>59200000</td>\n",
       "      <td>59300000</td>\n",
       "      <td>NaN</td>\n",
       "      <td>0.393520</td>\n",
       "      <td>NaN</td>\n",
       "      <td>NaN</td>\n",
       "      <td>NaN</td>\n",
       "      <td>NaN</td>\n",
       "      <td>NaN</td>\n",
       "      <td>NaN</td>\n",
       "      <td>NaN</td>\n",
       "      <td>NaN</td>\n",
       "      <td>NaN</td>\n",
       "      <td>NaN</td>\n",
       "    </tr>\n",
       "    <tr>\n",
       "      <th>30969</th>\n",
       "      <td>chrY</td>\n",
       "      <td>59300000</td>\n",
       "      <td>59373566</td>\n",
       "      <td>NaN</td>\n",
       "      <td>0.497247</td>\n",
       "      <td>NaN</td>\n",
       "      <td>NaN</td>\n",
       "      <td>NaN</td>\n",
       "      <td>NaN</td>\n",
       "      <td>NaN</td>\n",
       "      <td>NaN</td>\n",
       "      <td>NaN</td>\n",
       "      <td>NaN</td>\n",
       "      <td>NaN</td>\n",
       "      <td>NaN</td>\n",
       "    </tr>\n",
       "    <tr>\n",
       "      <th>30970</th>\n",
       "      <td>chrM</td>\n",
       "      <td>0</td>\n",
       "      <td>16571</td>\n",
       "      <td>0.000186</td>\n",
       "      <td>0.444874</td>\n",
       "      <td>NaN</td>\n",
       "      <td>NaN</td>\n",
       "      <td>NaN</td>\n",
       "      <td>NaN</td>\n",
       "      <td>NaN</td>\n",
       "      <td>NaN</td>\n",
       "      <td>NaN</td>\n",
       "      <td>NaN</td>\n",
       "      <td>NaN</td>\n",
       "      <td>NaN</td>\n",
       "    </tr>\n",
       "  </tbody>\n",
       "</table>\n",
       "<p>30971 rows × 15 columns</p>\n",
       "</div>"
      ],
      "text/plain": [
       "      chrom     start       end    weight        GC        E1        E2  \\\n",
       "0      chr1         0    100000       NaN  0.424522       NaN       NaN   \n",
       "1      chr1    100000    200000       NaN  0.436106       NaN       NaN   \n",
       "2      chr1    200000    300000       NaN  0.391445       NaN       NaN   \n",
       "3      chr1    300000    400000       NaN  0.402049       NaN       NaN   \n",
       "4      chr1    400000    500000       NaN  0.453719       NaN       NaN   \n",
       "...     ...       ...       ...       ...       ...       ...       ...   \n",
       "30966  chrY  59000000  59100000  0.027284  0.380860 -0.742997  0.165271   \n",
       "30967  chrY  59100000  59200000       NaN  0.382110       NaN       NaN   \n",
       "30968  chrY  59200000  59300000       NaN  0.393520       NaN       NaN   \n",
       "30969  chrY  59300000  59373566       NaN  0.497247       NaN       NaN   \n",
       "30970  chrM         0     16571  0.000186  0.444874       NaN       NaN   \n",
       "\n",
       "             E3  binary  HMM2  HMM3  HMM4  HMM5  HMM6  HMM5_2  \n",
       "0           NaN     NaN   NaN   NaN   NaN   NaN   NaN     NaN  \n",
       "1           NaN     NaN   NaN   NaN   NaN   NaN   NaN     NaN  \n",
       "2           NaN     NaN   NaN   NaN   NaN   NaN   NaN     NaN  \n",
       "3           NaN     NaN   NaN   NaN   NaN   NaN   NaN     NaN  \n",
       "4           NaN     NaN   NaN   NaN   NaN   NaN   NaN     NaN  \n",
       "...         ...     ...   ...   ...   ...   ...   ...     ...  \n",
       "30966 -0.376632     0.0   1.0   2.0   3.0   4.0   5.0     4.0  \n",
       "30967       NaN     NaN   NaN   NaN   NaN   NaN   NaN     NaN  \n",
       "30968       NaN     NaN   NaN   NaN   NaN   NaN   NaN     NaN  \n",
       "30969       NaN     NaN   NaN   NaN   NaN   NaN   NaN     NaN  \n",
       "30970       NaN     NaN   NaN   NaN   NaN   NaN   NaN     NaN  \n",
       "\n",
       "[30971 rows x 15 columns]"
      ]
     },
     "execution_count": 177,
     "metadata": {},
     "output_type": "execute_result"
    }
   ],
   "source": [
    "hmm_track"
   ]
  },
  {
   "cell_type": "code",
   "execution_count": 178,
   "metadata": {},
   "outputs": [
    {
     "data": {
      "text/plain": [
       "[<matplotlib.lines.Line2D at 0x7f1e4299a890>]"
      ]
     },
     "execution_count": 178,
     "metadata": {},
     "output_type": "execute_result"
    },
    {
     "data": {
      "image/png": "[encoded data removed]",
      "text/plain": [
       "<Figure size 1440x216 with 1 Axes>"
      ]
     },
     "metadata": {
      "needs_background": "light"
     },
     "output_type": "display_data"
    }
   ],
   "source": [
    "plt.figure(figsize=(20, 3))\n",
    "chrom = 'chr19'\n",
    "mask = (~hmm_track['E1'].isna()) & (hmm_track.chrom == chrom)\n",
    "y1 = hmm_track[mask]['E1'].values\n",
    "plt.plot(y1)\n",
    "y2 = hmm_track[mask]['HMM3'].values - 1\n",
    "plt.plot(y2)"
   ]
  },
  {
   "cell_type": "code",
   "execution_count": 179,
   "metadata": {},
   "outputs": [],
   "source": [
    "hmm_track.to_csv('../annotations/GM12878.csv', index=False)"
   ]
  },
  {
   "cell_type": "code",
   "execution_count": null,
   "metadata": {},
   "outputs": [],
   "source": []
  }
 ],
 "metadata": {
  "kernelspec": {
   "display_name": "Python 3",
   "language": "python",
   "name": "python3"
  },
  "language_info": {
   "codemirror_mode": {
    "name": "ipython",
    "version": 3
   },
   "file_extension": ".py",
   "mimetype": "text/x-python",
   "name": "python",
   "nbconvert_exporter": "python",
   "pygments_lexer": "ipython3",
   "version": "3.7.9"
  }
 },
 "nbformat": 4,
 "nbformat_minor": 4
}
