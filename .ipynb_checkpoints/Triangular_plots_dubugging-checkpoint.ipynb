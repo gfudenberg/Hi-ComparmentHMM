{
 "cells": [
  {
   "cell_type": "code",
   "execution_count": 120,
   "metadata": {},
   "outputs": [
    {
     "data": {
      "text/plain": [
       "<module 'triangular' from '/pollard/home/lchumpitaz/Hi-C/testing/triangular.py'>"
      ]
     },
     "execution_count": 120,
     "metadata": {},
     "output_type": "execute_result"
    }
   ],
   "source": [
    "import triangular\n",
    "from importlib import reload\n",
    "reload(triangular)"
   ]
  },
  {
   "cell_type": "code",
   "execution_count": 121,
   "metadata": {},
   "outputs": [],
   "source": [
    "import numpy as np\n"
   ]
  },
  {
   "cell_type": "code",
   "execution_count": 129,
   "metadata": {},
   "outputs": [],
   "source": [
    "signal = np.array([0,0,0, 0, 0, 1, 2, 2, 1, 0, 0, 1, 1, 2, 0, 1, 2, 3,0,0,2, 1, 1, 0,0,0,0,0])\n",
    "pattern = np.array([0, 1, 2])"
   ]
  },
  {
   "cell_type": "code",
   "execution_count": 130,
   "metadata": {},
   "outputs": [],
   "source": [
    "index_dict = triangular.find_pattern(signal, pattern, depth = 2)"
   ]
  },
  {
   "cell_type": "code",
   "execution_count": 132,
   "metadata": {},
   "outputs": [],
   "source": [
    "windows_dict = triangular.stack_windows(index_dict, signal, win_size = 3)"
   ]
  },
  {
   "cell_type": "code",
   "execution_count": 133,
   "metadata": {},
   "outputs": [
    {
     "data": {
      "text/plain": [
       "{1: [array([[0, 0, 0, 1, 2, 2, 1],\n",
       "         [1, 2, 0, 1, 2, 3, 0]]), array([[1, 2, 2, 1, 0, 0, 1]])],\n",
       " 2: [array([[1, 0, 0, 1, 1, 2, 0]]), array([[0, 2, 1, 1, 0, 0, 0]])]}"
      ]
     },
     "execution_count": 133,
     "metadata": {},
     "output_type": "execute_result"
    }
   ],
   "source": [
    "windows_dict"
   ]
  },
  {
   "cell_type": "code",
   "execution_count": null,
   "metadata": {},
   "outputs": [],
   "source": []
  }
 ],
 "metadata": {
  "kernelspec": {
   "display_name": "Python 3",
   "language": "python",
   "name": "python3"
  },
  "language_info": {
   "codemirror_mode": {
    "name": "ipython",
    "version": 3
   },
   "file_extension": ".py",
   "mimetype": "text/x-python",
   "name": "python",
   "nbconvert_exporter": "python",
   "pygments_lexer": "ipython3",
   "version": "3.7.3"
  }
 },
 "nbformat": 4,
 "nbformat_minor": 4
}
