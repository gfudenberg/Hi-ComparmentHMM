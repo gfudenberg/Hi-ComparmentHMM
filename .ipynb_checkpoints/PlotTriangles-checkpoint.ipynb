{
 "cells": [
  {
   "cell_type": "code",
   "execution_count": 2,
   "metadata": {},
   "outputs": [],
   "source": [
    "import fileprocessing\n",
    "import multianalysis\n",
    "import matplotlib.pyplot as plt\n",
    "import cooltools\n",
    "import cooltools.eigdecomp as eigdecomp\n",
    "import numpy as np\n",
    "from importlib import reload\n",
    "import HMMC\n",
    "import coolplots\n",
    "import badtools\n",
    "import numutils\n",
    "from multiprocessing import Pool\n",
    "import matplotlib.gridspec as gridspec\n",
    "import itertools\n",
    "import triangular"
   ]
  },
  {
   "cell_type": "code",
   "execution_count": 3,
   "metadata": {},
   "outputs": [],
   "source": [
    "cooldir = '/pollard/data/chromatin_organization/rao2014/distiller-0.3.1_hg19/results'"
   ]
  },
  {
   "cell_type": "code",
   "execution_count": 4,
   "metadata": {},
   "outputs": [],
   "source": [
    "cools = fileprocessing.get_files(cooldir)"
   ]
  },
  {
   "cell_type": "code",
   "execution_count": 6,
   "metadata": {},
   "outputs": [
    {
     "data": {
      "text/html": [
       "<div>\n",
       "<style scoped>\n",
       "    .dataframe tbody tr th:only-of-type {\n",
       "        vertical-align: middle;\n",
       "    }\n",
       "\n",
       "    .dataframe tbody tr th {\n",
       "        vertical-align: top;\n",
       "    }\n",
       "\n",
       "    .dataframe thead th {\n",
       "        text-align: right;\n",
       "    }\n",
       "</style>\n",
       "<table border=\"1\" class=\"dataframe\">\n",
       "  <thead>\n",
       "    <tr style=\"text-align: right;\">\n",
       "      <th></th>\n",
       "      <th>cell_line</th>\n",
       "      <th>assembly</th>\n",
       "      <th>path</th>\n",
       "      <th>cooler</th>\n",
       "    </tr>\n",
       "  </thead>\n",
       "  <tbody>\n",
       "    <tr>\n",
       "      <th>0</th>\n",
       "      <td>NHEK</td>\n",
       "      <td>hg19</td>\n",
       "      <td>/pollard/data/chromatin_organization/rao2014/d...</td>\n",
       "      <td>&lt;Cooler \"NHEK_inSitu_MboI.hg19.mapq_30.1000.mc...</td>\n",
       "    </tr>\n",
       "    <tr>\n",
       "      <th>1</th>\n",
       "      <td>IMR90</td>\n",
       "      <td>hg19</td>\n",
       "      <td>/pollard/data/chromatin_organization/rao2014/d...</td>\n",
       "      <td>&lt;Cooler \"IMR90_inSitu_MboI.hg19.mapq_30.1000.m...</td>\n",
       "    </tr>\n",
       "    <tr>\n",
       "      <th>2</th>\n",
       "      <td>K562</td>\n",
       "      <td>hg19</td>\n",
       "      <td>/pollard/data/chromatin_organization/rao2014/d...</td>\n",
       "      <td>&lt;Cooler \"K562_inSitu_MboI.hg19.mapq_30.1000.mc...</td>\n",
       "    </tr>\n",
       "    <tr>\n",
       "      <th>3</th>\n",
       "      <td>HUVEC</td>\n",
       "      <td>hg19</td>\n",
       "      <td>/pollard/data/chromatin_organization/rao2014/d...</td>\n",
       "      <td>&lt;Cooler \"HUVEC_inSitu_MboI.hg19.mapq_30.1000.m...</td>\n",
       "    </tr>\n",
       "    <tr>\n",
       "      <th>4</th>\n",
       "      <td>HMEC</td>\n",
       "      <td>hg19</td>\n",
       "      <td>/pollard/data/chromatin_organization/rao2014/d...</td>\n",
       "      <td>&lt;Cooler \"HMEC_inSitu_MboI.hg19.mapq_30.1000.mc...</td>\n",
       "    </tr>\n",
       "    <tr>\n",
       "      <th>5</th>\n",
       "      <td>KBM7</td>\n",
       "      <td>hg19</td>\n",
       "      <td>/pollard/data/chromatin_organization/rao2014/d...</td>\n",
       "      <td>&lt;Cooler \"KBM7_inSitu_MboI.hg19.mapq_30.1000.mc...</td>\n",
       "    </tr>\n",
       "    <tr>\n",
       "      <th>6</th>\n",
       "      <td>GM12878</td>\n",
       "      <td>hg19</td>\n",
       "      <td>/pollard/data/chromatin_organization/rao2014/d...</td>\n",
       "      <td>&lt;Cooler \"GM12878_inSitu_MboI.hg19.mapq_30.1000...</td>\n",
       "    </tr>\n",
       "  </tbody>\n",
       "</table>\n",
       "</div>"
      ],
      "text/plain": [
       "  cell_line assembly                                               path  \\\n",
       "0      NHEK     hg19  /pollard/data/chromatin_organization/rao2014/d...   \n",
       "1     IMR90     hg19  /pollard/data/chromatin_organization/rao2014/d...   \n",
       "2      K562     hg19  /pollard/data/chromatin_organization/rao2014/d...   \n",
       "3     HUVEC     hg19  /pollard/data/chromatin_organization/rao2014/d...   \n",
       "4      HMEC     hg19  /pollard/data/chromatin_organization/rao2014/d...   \n",
       "5      KBM7     hg19  /pollard/data/chromatin_organization/rao2014/d...   \n",
       "6   GM12878     hg19  /pollard/data/chromatin_organization/rao2014/d...   \n",
       "\n",
       "                                              cooler  \n",
       "0  <Cooler \"NHEK_inSitu_MboI.hg19.mapq_30.1000.mc...  \n",
       "1  <Cooler \"IMR90_inSitu_MboI.hg19.mapq_30.1000.m...  \n",
       "2  <Cooler \"K562_inSitu_MboI.hg19.mapq_30.1000.mc...  \n",
       "3  <Cooler \"HUVEC_inSitu_MboI.hg19.mapq_30.1000.m...  \n",
       "4  <Cooler \"HMEC_inSitu_MboI.hg19.mapq_30.1000.mc...  \n",
       "5  <Cooler \"KBM7_inSitu_MboI.hg19.mapq_30.1000.mc...  \n",
       "6  <Cooler \"GM12878_inSitu_MboI.hg19.mapq_30.1000...  "
      ]
     },
     "execution_count": 6,
     "metadata": {},
     "output_type": "execute_result"
    }
   ],
   "source": [
    "df = fileprocessing.cools_df(cools, resolution = 100000)\n",
    "df"
   ]
  },
  {
   "cell_type": "code",
   "execution_count": 7,
   "metadata": {},
   "outputs": [],
   "source": [
    "genecov_dict = fileprocessing.get_genecov(df)"
   ]
  },
  {
   "cell_type": "code",
   "execution_count": 8,
   "metadata": {},
   "outputs": [],
   "source": [
    "vals, tracks = multianalysis.get_eigs(df, genecov_dict, n = 3)"
   ]
  },
  {
   "cell_type": "code",
   "execution_count": 9,
   "metadata": {},
   "outputs": [
    {
     "name": "stdout",
     "output_type": "stream",
     "text": [
      "[ 2. -2.  2. ...  2.  0.  0.]\n",
      "[ 0.  2.  0. ... -2.  3.  0.]\n",
      "[ 2. -2.  0. ...  2.  0.  0.]\n",
      "[ 0.  2. -2. ...  2. -2.  0.]\n",
      "[ 2. -2.  2. ...  2. -2.  0.]\n",
      "[ 0.  2. -2. ... -2.  0.  0.]\n",
      "[ 2. -2.  2. ...  0.  2.  0.]\n"
     ]
    }
   ],
   "source": [
    "with Pool(processes=len(tracks)) as pool:\n",
    "    hmm_tracks = pool.map(HMMC.auto_analyze, tracks)"
   ]
  },
  {
   "cell_type": "code",
   "execution_count": 10,
   "metadata": {},
   "outputs": [
    {
     "data": {
      "text/html": [
       "<div>\n",
       "<style scoped>\n",
       "    .dataframe tbody tr th:only-of-type {\n",
       "        vertical-align: middle;\n",
       "    }\n",
       "\n",
       "    .dataframe tbody tr th {\n",
       "        vertical-align: top;\n",
       "    }\n",
       "\n",
       "    .dataframe thead th {\n",
       "        text-align: right;\n",
       "    }\n",
       "</style>\n",
       "<table border=\"1\" class=\"dataframe\">\n",
       "  <thead>\n",
       "    <tr style=\"text-align: right;\">\n",
       "      <th></th>\n",
       "      <th>cell_line</th>\n",
       "      <th>assay</th>\n",
       "      <th>file_format</th>\n",
       "      <th>output_type</th>\n",
       "      <th>assembly</th>\n",
       "      <th>file_status</th>\n",
       "      <th>target</th>\n",
       "      <th>biosample_treatment</th>\n",
       "      <th>lab</th>\n",
       "      <th>replicate</th>\n",
       "      <th>file_name</th>\n",
       "      <th>file_location</th>\n",
       "    </tr>\n",
       "  </thead>\n",
       "  <tbody>\n",
       "    <tr>\n",
       "      <th>0</th>\n",
       "      <td>keratinocyte</td>\n",
       "      <td>ChIP-seq</td>\n",
       "      <td>bed narrowPeak</td>\n",
       "      <td>optimal idr thresholded peaks</td>\n",
       "      <td>GRCh38</td>\n",
       "      <td>released</td>\n",
       "      <td>CTCF</td>\n",
       "      <td>None</td>\n",
       "      <td>Vishwanath Iyer, UTA</td>\n",
       "      <td>rep1,2</td>\n",
       "      <td>ENCFF028IIR.bed.gz</td>\n",
       "      <td>/pollard/data/functional_genomics/encode/kerat...</td>\n",
       "    </tr>\n",
       "    <tr>\n",
       "      <th>1</th>\n",
       "      <td>keratinocyte</td>\n",
       "      <td>ChIP-seq</td>\n",
       "      <td>bed narrowPeak</td>\n",
       "      <td>peaks and background as input for IDR</td>\n",
       "      <td>GRCh38</td>\n",
       "      <td>released</td>\n",
       "      <td>CTCF</td>\n",
       "      <td>None</td>\n",
       "      <td>Vishwanath Iyer, UTA</td>\n",
       "      <td>rep1,2</td>\n",
       "      <td>ENCFF465MVV.bed.gz</td>\n",
       "      <td>/pollard/data/functional_genomics/encode/kerat...</td>\n",
       "    </tr>\n",
       "    <tr>\n",
       "      <th>2</th>\n",
       "      <td>keratinocyte</td>\n",
       "      <td>ChIP-seq</td>\n",
       "      <td>bed narrowPeak</td>\n",
       "      <td>peaks and background as input for IDR</td>\n",
       "      <td>GRCh38</td>\n",
       "      <td>released</td>\n",
       "      <td>CTCF</td>\n",
       "      <td>None</td>\n",
       "      <td>Vishwanath Iyer, UTA</td>\n",
       "      <td>rep1</td>\n",
       "      <td>ENCFF301UPP.bed.gz</td>\n",
       "      <td>/pollard/data/functional_genomics/encode/kerat...</td>\n",
       "    </tr>\n",
       "    <tr>\n",
       "      <th>3</th>\n",
       "      <td>keratinocyte</td>\n",
       "      <td>ChIP-seq</td>\n",
       "      <td>bed narrowPeak</td>\n",
       "      <td>peaks and background as input for IDR</td>\n",
       "      <td>GRCh38</td>\n",
       "      <td>released</td>\n",
       "      <td>CTCF</td>\n",
       "      <td>None</td>\n",
       "      <td>Vishwanath Iyer, UTA</td>\n",
       "      <td>rep2</td>\n",
       "      <td>ENCFF623KYU.bed.gz</td>\n",
       "      <td>/pollard/data/functional_genomics/encode/kerat...</td>\n",
       "    </tr>\n",
       "    <tr>\n",
       "      <th>4</th>\n",
       "      <td>keratinocyte</td>\n",
       "      <td>ChIP-seq</td>\n",
       "      <td>bed narrowPeak</td>\n",
       "      <td>conservative idr thresholded peaks</td>\n",
       "      <td>hg19</td>\n",
       "      <td>released</td>\n",
       "      <td>CTCF</td>\n",
       "      <td>None</td>\n",
       "      <td>Vishwanath Iyer, UTA</td>\n",
       "      <td>rep1,2</td>\n",
       "      <td>ENCFF226MQR.bed.gz</td>\n",
       "      <td>/pollard/data/functional_genomics/encode/kerat...</td>\n",
       "    </tr>\n",
       "  </tbody>\n",
       "</table>\n",
       "</div>"
      ],
      "text/plain": [
       "      cell_line     assay     file_format  \\\n",
       "0  keratinocyte  ChIP-seq  bed narrowPeak   \n",
       "1  keratinocyte  ChIP-seq  bed narrowPeak   \n",
       "2  keratinocyte  ChIP-seq  bed narrowPeak   \n",
       "3  keratinocyte  ChIP-seq  bed narrowPeak   \n",
       "4  keratinocyte  ChIP-seq  bed narrowPeak   \n",
       "\n",
       "                             output_type assembly file_status target  \\\n",
       "0          optimal idr thresholded peaks   GRCh38    released   CTCF   \n",
       "1  peaks and background as input for IDR   GRCh38    released   CTCF   \n",
       "2  peaks and background as input for IDR   GRCh38    released   CTCF   \n",
       "3  peaks and background as input for IDR   GRCh38    released   CTCF   \n",
       "4     conservative idr thresholded peaks     hg19    released   CTCF   \n",
       "\n",
       "  biosample_treatment                   lab replicate           file_name  \\\n",
       "0                None  Vishwanath Iyer, UTA    rep1,2  ENCFF028IIR.bed.gz   \n",
       "1                None  Vishwanath Iyer, UTA    rep1,2  ENCFF465MVV.bed.gz   \n",
       "2                None  Vishwanath Iyer, UTA      rep1  ENCFF301UPP.bed.gz   \n",
       "3                None  Vishwanath Iyer, UTA      rep2  ENCFF623KYU.bed.gz   \n",
       "4                None  Vishwanath Iyer, UTA    rep1,2  ENCFF226MQR.bed.gz   \n",
       "\n",
       "                                       file_location  \n",
       "0  /pollard/data/functional_genomics/encode/kerat...  \n",
       "1  /pollard/data/functional_genomics/encode/kerat...  \n",
       "2  /pollard/data/functional_genomics/encode/kerat...  \n",
       "3  /pollard/data/functional_genomics/encode/kerat...  \n",
       "4  /pollard/data/functional_genomics/encode/kerat...  "
      ]
     },
     "execution_count": 10,
     "metadata": {},
     "output_type": "execute_result"
    }
   ],
   "source": [
    "bed_dir = '/pollard/data/functional_genomics/encode'\n",
    "beds = fileprocessing.get_files(bed_dir, 'bed.gz')\n",
    "beds_df = fileprocessing.beds_df(beds)\n",
    "beds_df.head()"
   ]
  },
  {
   "cell_type": "code",
   "execution_count": 14,
   "metadata": {},
   "outputs": [],
   "source": [
    "def get_chips(beds_df, cell_line, assembly):\n",
    "    loc = beds_df[( beds_df.cell_line == cell_line)& \n",
    "                  (beds_df.assembly == assembly) &\n",
    "                  (beds_df.output_type == 'optimal idr thresholded peaks') &\n",
    "                  (beds_df.replicate == 'rep1,2')\n",
    "                 ]\n",
    "    loc = loc.reset_index(drop = True)\n",
    "    return loc\n",
    "\n",
    "def run_process(f, collection):\n",
    "    \n",
    "    try:\n",
    "        with Pool(processes=30) as pool:\n",
    "            r = pool.starmap(f, collection)\n",
    "            print('Succesful')\n",
    "        return r\n",
    "    except:\n",
    "        print('Error in collection')\n",
    "        return [None]\n",
    "\n",
    "def mask_signal(df, sig_target, sig_rule):\n",
    "    '''\n",
    "        df: pandas dataframe\n",
    "        sig_target: column name of which desired signal is to be masked\n",
    "        sig_rule: column name of the signal that is set to be used as the masking rule\n",
    "    '''\n",
    "    mask = df[sig_rule] == df[sig_rule]\n",
    "    \n",
    "    return df[mask][sig_target].values"
   ]
  },
  {
   "cell_type": "code",
   "execution_count": 12,
   "metadata": {},
   "outputs": [
    {
     "name": "stdout",
     "output_type": "stream",
     "text": [
      "Succesful\n",
      "Succesful\n",
      "Succesful\n",
      "Succesful\n",
      "Succesful\n",
      "Succesful\n",
      "Succesful\n"
     ]
    }
   ],
   "source": [
    "results = [run_process(badtools.chip_intersect, zip(itertools.repeat(hmm_tracks[i]), get_chips(beds_df, df.iloc[i].cell_line, df.iloc[i].assembly).file_location.values.tolist()))\n",
    "           for  i in range(len(df))]"
   ]
  },
  {
   "cell_type": "code",
   "execution_count": 13,
   "metadata": {},
   "outputs": [
    {
     "name": "stdout",
     "output_type": "stream",
     "text": [
      "0 0 NHEK\n",
      "1 8 IMR90\n",
      "2 316 K562\n",
      "3 4 HUVEC\n",
      "4 0 HMEC\n",
      "5 0 KBM7\n",
      "6 121 GM12878\n"
     ]
    }
   ],
   "source": [
    "for i in range(len(results)):\n",
    "    print(i , len(results[i]), df.cell_line[i])"
   ]
  },
  {
   "cell_type": "code",
   "execution_count": 203,
   "metadata": {},
   "outputs": [],
   "source": [
    "k = 6 #Let's only do GM12878\n",
    "chip_df = get_chips(beds_df, df.iloc[k].cell_line, df.iloc[k].assembly)\n",
    "x = mask_signal(hmm_tracks[k], 'HMM3', 'E1')\n",
    "h = np.array([0, 1, 2])\n",
    "index_dict = triangular.find_pattern(x, h, depth = 22)"
   ]
  },
  {
   "cell_type": "code",
   "execution_count": 208,
   "metadata": {},
   "outputs": [
    {
     "data": {
      "text/plain": [
       "<module 'triangular' from '/pollard/home/lchumpitaz/Hi-C/testing/triangular.py'>"
      ]
     },
     "execution_count": 208,
     "metadata": {},
     "output_type": "execute_result"
    }
   ],
   "source": [
    "reload(triangular)"
   ]
  },
  {
   "cell_type": "code",
   "execution_count": 198,
   "metadata": {},
   "outputs": [
    {
     "data": {
      "image/png": "[encoded data removed]",
      "text/plain": [
       "<Figure size 720x576 with 2 Axes>"
      ]
     },
     "execution_count": 198,
     "metadata": {},
     "output_type": "execute_result"
    }
   ],
   "source": [
    "triangular.plot_triangle(index_dict, mask_signal(hmm_tracks[k], 'E1', 'E1'), win_size = 15, average = True)"
   ]
  },
  {
   "cell_type": "code",
   "execution_count": 226,
   "metadata": {
    "scrolled": false
   },
   "outputs": [],
   "source": [
    "fig_list = list()\n",
    "for i in range(len(chip_df)):\n",
    "    \n",
    "    fig_list.append(triangular.plot_triangle(index_dict,\n",
    "                    mask_signal(results[k][i], 'signalValue', 'E1'), \n",
    "                         figsize = (5, 4),\n",
    "                         win_size = 15, average = True, fold = True, \n",
    "                         title = chip_df.target.iloc[i]))"
   ]
  },
  {
   "cell_type": "code",
   "execution_count": 244,
   "metadata": {},
   "outputs": [
    {
     "data": {
      "image/png": "[encoded data removed]",
      "text/plain": [
       "<Figure size 360x288 with 2 Axes>"
      ]
     },
     "execution_count": 244,
     "metadata": {},
     "output_type": "execute_result"
    }
   ],
   "source": [
    "fig_list[16]"
   ]
  },
  {
   "cell_type": "code",
   "execution_count": null,
   "metadata": {},
   "outputs": [],
   "source": []
  }
 ],
 "metadata": {
  "kernelspec": {
   "display_name": "Python 3",
   "language": "python",
   "name": "python3"
  },
  "language_info": {
   "codemirror_mode": {
    "name": "ipython",
    "version": 3
   },
   "file_extension": ".py",
   "mimetype": "text/x-python",
   "name": "python",
   "nbconvert_exporter": "python",
   "pygments_lexer": "ipython3",
   "version": "3.7.3"
  }
 },
 "nbformat": 4,
 "nbformat_minor": 2
}
