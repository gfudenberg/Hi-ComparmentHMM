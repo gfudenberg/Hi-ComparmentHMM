{
 "cells": [
  {
   "cell_type": "code",
   "execution_count": 1,
   "metadata": {},
   "outputs": [],
   "source": [
    "import matplotlib.pyplot as plt\n",
    "import pandas as pd\n",
    "import matplotlib.gridspec as gridspec\n",
    "import numpy as np\n",
    "import matplotlib\n",
    "import matplotlib.patches as mpatches\n"
   ]
  },
  {
   "cell_type": "code",
   "execution_count": 2,
   "metadata": {},
   "outputs": [
    {
     "data": {
      "text/html": [
       "<div>\n",
       "<style scoped>\n",
       "    .dataframe tbody tr th:only-of-type {\n",
       "        vertical-align: middle;\n",
       "    }\n",
       "\n",
       "    .dataframe tbody tr th {\n",
       "        vertical-align: top;\n",
       "    }\n",
       "\n",
       "    .dataframe thead th {\n",
       "        text-align: right;\n",
       "    }\n",
       "</style>\n",
       "<table border=\"1\" class=\"dataframe\">\n",
       "  <thead>\n",
       "    <tr style=\"text-align: right;\">\n",
       "      <th></th>\n",
       "      <th>chrom</th>\n",
       "      <th>start</th>\n",
       "      <th>end</th>\n",
       "      <th>weight</th>\n",
       "      <th>GC</th>\n",
       "      <th>E1</th>\n",
       "      <th>E2</th>\n",
       "      <th>E3</th>\n",
       "      <th>binary</th>\n",
       "      <th>HMM2</th>\n",
       "      <th>HMM3</th>\n",
       "      <th>HMM4</th>\n",
       "      <th>HMM5</th>\n",
       "      <th>HMM6</th>\n",
       "      <th>HMM5_2</th>\n",
       "    </tr>\n",
       "  </thead>\n",
       "  <tbody>\n",
       "    <tr>\n",
       "      <th>0</th>\n",
       "      <td>chr1</td>\n",
       "      <td>0</td>\n",
       "      <td>50000</td>\n",
       "      <td>NaN</td>\n",
       "      <td>0.484250</td>\n",
       "      <td>NaN</td>\n",
       "      <td>NaN</td>\n",
       "      <td>NaN</td>\n",
       "      <td>NaN</td>\n",
       "      <td>NaN</td>\n",
       "      <td>NaN</td>\n",
       "      <td>NaN</td>\n",
       "      <td>NaN</td>\n",
       "      <td>NaN</td>\n",
       "      <td>NaN</td>\n",
       "    </tr>\n",
       "    <tr>\n",
       "      <th>1</th>\n",
       "      <td>chr1</td>\n",
       "      <td>50000</td>\n",
       "      <td>100000</td>\n",
       "      <td>NaN</td>\n",
       "      <td>0.376740</td>\n",
       "      <td>NaN</td>\n",
       "      <td>NaN</td>\n",
       "      <td>NaN</td>\n",
       "      <td>NaN</td>\n",
       "      <td>NaN</td>\n",
       "      <td>NaN</td>\n",
       "      <td>NaN</td>\n",
       "      <td>NaN</td>\n",
       "      <td>NaN</td>\n",
       "      <td>NaN</td>\n",
       "    </tr>\n",
       "    <tr>\n",
       "      <th>2</th>\n",
       "      <td>chr1</td>\n",
       "      <td>100000</td>\n",
       "      <td>150000</td>\n",
       "      <td>NaN</td>\n",
       "      <td>0.429960</td>\n",
       "      <td>NaN</td>\n",
       "      <td>NaN</td>\n",
       "      <td>NaN</td>\n",
       "      <td>NaN</td>\n",
       "      <td>NaN</td>\n",
       "      <td>NaN</td>\n",
       "      <td>NaN</td>\n",
       "      <td>NaN</td>\n",
       "      <td>NaN</td>\n",
       "      <td>NaN</td>\n",
       "    </tr>\n",
       "    <tr>\n",
       "      <th>3</th>\n",
       "      <td>chr1</td>\n",
       "      <td>150000</td>\n",
       "      <td>200000</td>\n",
       "      <td>NaN</td>\n",
       "      <td>0.447314</td>\n",
       "      <td>NaN</td>\n",
       "      <td>NaN</td>\n",
       "      <td>NaN</td>\n",
       "      <td>NaN</td>\n",
       "      <td>NaN</td>\n",
       "      <td>NaN</td>\n",
       "      <td>NaN</td>\n",
       "      <td>NaN</td>\n",
       "      <td>NaN</td>\n",
       "      <td>NaN</td>\n",
       "    </tr>\n",
       "    <tr>\n",
       "      <th>4</th>\n",
       "      <td>chr1</td>\n",
       "      <td>200000</td>\n",
       "      <td>250000</td>\n",
       "      <td>NaN</td>\n",
       "      <td>0.410796</td>\n",
       "      <td>NaN</td>\n",
       "      <td>NaN</td>\n",
       "      <td>NaN</td>\n",
       "      <td>NaN</td>\n",
       "      <td>NaN</td>\n",
       "      <td>NaN</td>\n",
       "      <td>NaN</td>\n",
       "      <td>NaN</td>\n",
       "      <td>NaN</td>\n",
       "      <td>NaN</td>\n",
       "    </tr>\n",
       "  </tbody>\n",
       "</table>\n",
       "</div>"
      ],
      "text/plain": [
       "  chrom   start     end  weight        GC  E1  E2  E3  binary  HMM2  HMM3  \\\n",
       "0  chr1       0   50000     NaN  0.484250 NaN NaN NaN     NaN   NaN   NaN   \n",
       "1  chr1   50000  100000     NaN  0.376740 NaN NaN NaN     NaN   NaN   NaN   \n",
       "2  chr1  100000  150000     NaN  0.429960 NaN NaN NaN     NaN   NaN   NaN   \n",
       "3  chr1  150000  200000     NaN  0.447314 NaN NaN NaN     NaN   NaN   NaN   \n",
       "4  chr1  200000  250000     NaN  0.410796 NaN NaN NaN     NaN   NaN   NaN   \n",
       "\n",
       "   HMM4  HMM5  HMM6  HMM5_2  \n",
       "0   NaN   NaN   NaN     NaN  \n",
       "1   NaN   NaN   NaN     NaN  \n",
       "2   NaN   NaN   NaN     NaN  \n",
       "3   NaN   NaN   NaN     NaN  \n",
       "4   NaN   NaN   NaN     NaN  "
      ]
     },
     "execution_count": 2,
     "metadata": {},
     "output_type": "execute_result"
    }
   ],
   "source": [
    "hmm_track = pd.read_csv('../annotations/GM12878.csv')\n",
    "hmm_track.head()"
   ]
  },
  {
   "cell_type": "code",
   "execution_count": 3,
   "metadata": {},
   "outputs": [],
   "source": [
    "pallete={ 'HMM3':np.array([8, 5, 2, 4, 4, 4]), 'binary': np.array([2, 8, 5,5,5,5]), 'HMM5_2': np.array([8, 6, 5,3,2,4])}\n",
    "names = {'HMM3': ['A', 'M', 'B', 'N'], 'HMM5_2':['A', 'Maa', 'M', 'Mbb', 'B', 'N']}"
   ]
  },
  {
   "cell_type": "code",
   "execution_count": 4,
   "metadata": {},
   "outputs": [],
   "source": [
    "def plot_track(chrom, hmm, start, end):\n",
    "    plt.figure(figsize=(20, 4))\n",
    "    y_sig = hmm_track[hmm_track.chrom == chrom][hmm].values\n",
    "    y0 = np.tile(y_sig[start:end].reshape(1,-1), (2, 1))\n",
    "    y0[y0!=y0] = 5\n",
    "    y0=y0.astype(int)\n",
    "    y0_c = pallete[hmm][y0]\n",
    "    im = plt.imshow(y0_c,cmap=\"RdYlBu\", vmin=0, vmax=10, aspect='auto')\n",
    "    values = pallete[hmm]\n",
    "    colors = [ im.cmap(im.norm(value)) for value in values]\n",
    "    patches = [ mpatches.Patch(color=colors[i], label=names[hmm][i] ) for i in range(len(names[hmm])) ]\n",
    "    plt.legend(handles=patches, bbox_to_anchor=(1.05, 1), loc=2, borderaxespad=0. )\n",
    "\n",
    "    plt.axis('off')"
   ]
  },
  {
   "cell_type": "code",
   "execution_count": 5,
   "metadata": {},
   "outputs": [
    {
     "data": {
      "image/png": "[encoded data removed]",
      "text/plain": [
       "<Figure size 1440x288 with 1 Axes>"
      ]
     },
     "metadata": {
      "needs_background": "light"
     },
     "output_type": "display_data"
    }
   ],
   "source": [
    "chrom = 'chr19'\n",
    "hmm = 'HMM5_2'\n",
    "start, end = 600, 900\n",
    "plot_track(chrom, hmm, start, end)"
   ]
  },
  {
   "cell_type": "code",
   "execution_count": 6,
   "metadata": {},
   "outputs": [
    {
     "data": {
      "image/png": "[encoded data removed]",
      "text/plain": [
       "<Figure size 1440x288 with 1 Axes>"
      ]
     },
     "metadata": {
      "needs_background": "light"
     },
     "output_type": "display_data"
    }
   ],
   "source": [
    "chrom = 'chr19'\n",
    "hmm = 'HMM3'\n",
    "start, end = 600, 900\n",
    "plot_track(chrom, hmm, start, end)"
   ]
  },
  {
   "cell_type": "code",
   "execution_count": null,
   "metadata": {},
   "outputs": [],
   "source": []
  }
 ],
 "metadata": {
  "kernelspec": {
   "display_name": "Python 3",
   "language": "python",
   "name": "python3"
  },
  "language_info": {
   "codemirror_mode": {
    "name": "ipython",
    "version": 3
   },
   "file_extension": ".py",
   "mimetype": "text/x-python",
   "name": "python",
   "nbconvert_exporter": "python",
   "pygments_lexer": "ipython3",
   "version": "3.7.9"
  }
 },
 "nbformat": 4,
 "nbformat_minor": 4
}
